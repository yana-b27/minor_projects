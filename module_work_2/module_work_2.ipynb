{
  "cells": [
    {
      "cell_type": "markdown",
      "metadata": {
        "id": "CCzJl1bN6apY"
      },
      "source": [
        "# Module work № 2\n"
      ]
    },
    {
      "cell_type": "code",
      "execution_count": 12,
      "metadata": {
        "id": "PreIu9Tltvcf"
      },
      "outputs": [],
      "source": [
        "import warnings\n",
        "warnings.filterwarnings('ignore')"
      ]
    },
    {
      "cell_type": "code",
      "execution_count": 13,
      "metadata": {
        "id": "9T6vQZDxSajj"
      },
      "outputs": [],
      "source": [
        "import pandas as pd\n",
        "import numpy as np\n",
        "import matplotlib.pyplot as plt\n",
        "import seaborn as sns\n",
        "import scipy as sc"
      ]
    },
    {
      "cell_type": "markdown",
      "metadata": {
        "id": "wybqqX0FSsxY"
      },
      "source": [
        "### Task № 1\n",
        "\n",
        "In this task, regression model for non-linear equations will be created and features of the dataset will be explored"
      ]
    },
    {
      "cell_type": "code",
      "execution_count": 14,
      "metadata": {
        "colab": {
          "base_uri": "https://localhost:8080/",
          "height": 206
        },
        "id": "A39v5AYy67yn",
        "outputId": "7dff2edc-25c8-4b42-b8cc-866c2d2fb5bc"
      },
      "outputs": [
        {
          "data": {
            "text/html": [
              "<div>\n",
              "<style scoped>\n",
              "    .dataframe tbody tr th:only-of-type {\n",
              "        vertical-align: middle;\n",
              "    }\n",
              "\n",
              "    .dataframe tbody tr th {\n",
              "        vertical-align: top;\n",
              "    }\n",
              "\n",
              "    .dataframe thead th {\n",
              "        text-align: right;\n",
              "    }\n",
              "</style>\n",
              "<table border=\"1\" class=\"dataframe\">\n",
              "  <thead>\n",
              "    <tr style=\"text-align: right;\">\n",
              "      <th></th>\n",
              "      <th>t</th>\n",
              "      <th>Y</th>\n",
              "      <th>X1</th>\n",
              "      <th>X2</th>\n",
              "      <th>X3</th>\n",
              "      <th>X4</th>\n",
              "    </tr>\n",
              "  </thead>\n",
              "  <tbody>\n",
              "    <tr>\n",
              "      <th>0</th>\n",
              "      <td>1</td>\n",
              "      <td>31.2</td>\n",
              "      <td>492.9</td>\n",
              "      <td>37.3</td>\n",
              "      <td>54.7</td>\n",
              "      <td>77.4</td>\n",
              "    </tr>\n",
              "    <tr>\n",
              "      <th>1</th>\n",
              "      <td>2</td>\n",
              "      <td>33.3</td>\n",
              "      <td>528.6</td>\n",
              "      <td>38.1</td>\n",
              "      <td>63.7</td>\n",
              "      <td>80.2</td>\n",
              "    </tr>\n",
              "    <tr>\n",
              "      <th>2</th>\n",
              "      <td>3</td>\n",
              "      <td>35.6</td>\n",
              "      <td>560.3</td>\n",
              "      <td>39.3</td>\n",
              "      <td>69.8</td>\n",
              "      <td>80.4</td>\n",
              "    </tr>\n",
              "    <tr>\n",
              "      <th>3</th>\n",
              "      <td>4</td>\n",
              "      <td>36.4</td>\n",
              "      <td>624.6</td>\n",
              "      <td>37.8</td>\n",
              "      <td>65.9</td>\n",
              "      <td>83.9</td>\n",
              "    </tr>\n",
              "    <tr>\n",
              "      <th>4</th>\n",
              "      <td>5</td>\n",
              "      <td>36.7</td>\n",
              "      <td>666.4</td>\n",
              "      <td>38.4</td>\n",
              "      <td>64.5</td>\n",
              "      <td>85.5</td>\n",
              "    </tr>\n",
              "  </tbody>\n",
              "</table>\n",
              "</div>"
            ],
            "text/plain": [
              "   t     Y     X1    X2    X3    X4\n",
              "0  1  31.2  492.9  37.3  54.7  77.4\n",
              "1  2  33.3  528.6  38.1  63.7  80.2\n",
              "2  3  35.6  560.3  39.3  69.8  80.4\n",
              "3  4  36.4  624.6  37.8  65.9  83.9\n",
              "4  5  36.7  666.4  38.4  64.5  85.5"
            ]
          },
          "execution_count": 14,
          "metadata": {},
          "output_type": "execute_result"
        }
      ],
      "source": [
        "df_1 = pd.read_excel('task1.xlsx')\n",
        "df_1.head()"
      ]
    },
    {
      "cell_type": "markdown",
      "metadata": {
        "id": "VP_4RcIBTRyk"
      },
      "source": [
        "**a)** To create a regression model for a nonlinear regression equation, you must first convert the nonlinear equation to linear form. Thus, the following four equations will be converted to linear form as follows:\n"
      ]
    },
    {
      "cell_type": "markdown",
      "metadata": {
        "id": "nu2qJe-uXKIG"
      },
      "source": [
        "1\n",
        "\\begin{aligned}\n",
        "\\hat{y} = \\beta_{0}\n",
        "    &* x_{2}^{\\beta_{2}}\n",
        "\\end{aligned}\n",
        "\n",
        "\\begin{aligned}\n",
        "ln(\\hat{y}) = ln(\\beta_{0}\n",
        "    &* x_{2}^{\\beta_{2}})\n",
        "\\end{aligned}\n",
        "\n",
        "\\begin{aligned}\n",
        "ln(\\hat{y}) = ln(\\beta_{0})\n",
        "    &+ \\beta_{2} * ln(x_{2})\n",
        "\\end{aligned}\n",
        "\n",
        "2\n",
        "\\begin{aligned}\n",
        "\\hat{y} = \\beta_{0}\n",
        "    &* x_{1}^{\\beta_{1}}\n",
        "\\end{aligned}\n",
        "\n",
        "\\begin{aligned}\n",
        "ln(\\hat{y}) = ln(\\beta_{0}\n",
        "    &* x_{1}^{\\beta_{1}})\n",
        "\\end{aligned}\n",
        "\n",
        "\\begin{aligned}\n",
        "ln(\\hat{y}) = ln(\\beta_{0})\n",
        "    &+ \\beta_{1} * ln(x_{1})\n",
        "\\end{aligned}\n",
        "\n",
        "3\n",
        "\\begin{aligned}\n",
        "\\hat{y} = \\beta_{0}\n",
        "    &* x_{1}^{\\beta_{1}}\n",
        "    * x_{2}^{\\beta_{2}}\n",
        "\\end{aligned}\n",
        "\n",
        "\\begin{aligned}\n",
        "ln(\\hat{y}) = ln(\\beta_{0}\n",
        "    &* x_{1}^{\\beta_{1}}\n",
        "    * x_{2}^{\\beta_{2}})\n",
        "\\end{aligned}\n",
        "\n",
        "\\begin{aligned}\n",
        "ln(\\hat{y}) = ln(\\beta_{0})\n",
        "    &+ \\beta_{1} * ln(x_{1})\n",
        "    + \\beta_{2} * ln(x_{2})\n",
        "\\end{aligned}\n",
        "\n",
        "4\n",
        "\\begin{aligned}\n",
        "\\hat{y} = \\beta_{0}\n",
        "    &* x_{2}^{\\beta_{2}}\n",
        "    * x_{3}^{\\beta_{3}}\n",
        "    * x_{4}^{\\beta_{4}}\n",
        "\\end{aligned}\n",
        "\n",
        "\\begin{aligned}\n",
        "ln(\\hat{y}) = ln(\\beta_{0}\n",
        "    &* x_{2}^{\\beta_{2}}\n",
        "    * x_{3}^{\\beta_{3}}\n",
        "    * x_{4}^{\\beta_{4}})\n",
        "\\end{aligned}\n",
        "\n",
        "\\begin{aligned}\n",
        "ln(\\hat{y}) = ln(\\beta_{0})\n",
        "    &+ \\beta_{2} * ln(x_{2})\n",
        "    + \\beta_{3} * ln(x_{3})\n",
        "    + \\beta_{4} * ln(x_{4})\n",
        "\\end{aligned}"
      ]
    },
    {
      "cell_type": "markdown",
      "metadata": {
        "id": "eqJPyHWVba8j"
      },
      "source": [
        "Equations 1 and 2 can be called pairwise regression equations, since they consist of only two parameters. The remaining two equations are multiple regression equations, and the number of parameters in these equations is larger. For example, regression equation 3 has only 2 parameters, and regression equation 4 has 3 parameters. Thus, the last 2 equations take into account more factors that influence the target feature."
      ]
    },
    {
      "cell_type": "markdown",
      "metadata": {
        "id": "lm8PqRzyrUBO"
      },
      "source": [
        "Let's logarithm the parameters in the dataset using the natural logarithm function:"
      ]
    },
    {
      "cell_type": "code",
      "execution_count": 15,
      "metadata": {
        "id": "gpYvM-0RrbGz"
      },
      "outputs": [],
      "source": [
        "df_1['log_X1'] = np.log(df_1.X1)\n",
        "df_1['log_X2'] = np.log(df_1.X2)\n",
        "df_1['log_X3'] = np.log(df_1.X3)\n",
        "df_1['log_X4'] = np.log(df_1.X4)\n",
        "df_1['log_Y'] = np.log(df_1.Y)"
      ]
    },
    {
      "cell_type": "code",
      "execution_count": 16,
      "metadata": {
        "colab": {
          "base_uri": "https://localhost:8080/",
          "height": 645
        },
        "id": "c6seGJyTsEWX",
        "outputId": "13dfbf6f-b526-4767-db6f-58d890eb0f46"
      },
      "outputs": [
        {
          "data": {
            "text/html": [
              "<div>\n",
              "<style scoped>\n",
              "    .dataframe tbody tr th:only-of-type {\n",
              "        vertical-align: middle;\n",
              "    }\n",
              "\n",
              "    .dataframe tbody tr th {\n",
              "        vertical-align: top;\n",
              "    }\n",
              "\n",
              "    .dataframe thead th {\n",
              "        text-align: right;\n",
              "    }\n",
              "</style>\n",
              "<table border=\"1\" class=\"dataframe\">\n",
              "  <thead>\n",
              "    <tr style=\"text-align: right;\">\n",
              "      <th></th>\n",
              "      <th>t</th>\n",
              "      <th>Y</th>\n",
              "      <th>X1</th>\n",
              "      <th>X2</th>\n",
              "      <th>X3</th>\n",
              "      <th>X4</th>\n",
              "      <th>log_X1</th>\n",
              "      <th>log_X2</th>\n",
              "      <th>log_X3</th>\n",
              "      <th>log_X4</th>\n",
              "      <th>log_Y</th>\n",
              "    </tr>\n",
              "  </thead>\n",
              "  <tbody>\n",
              "    <tr>\n",
              "      <th>0</th>\n",
              "      <td>1</td>\n",
              "      <td>31.2</td>\n",
              "      <td>492.9</td>\n",
              "      <td>37.3</td>\n",
              "      <td>54.7</td>\n",
              "      <td>77.4</td>\n",
              "      <td>6.200306</td>\n",
              "      <td>3.618993</td>\n",
              "      <td>4.001864</td>\n",
              "      <td>4.348987</td>\n",
              "      <td>3.440418</td>\n",
              "    </tr>\n",
              "    <tr>\n",
              "      <th>1</th>\n",
              "      <td>2</td>\n",
              "      <td>33.3</td>\n",
              "      <td>528.6</td>\n",
              "      <td>38.1</td>\n",
              "      <td>63.7</td>\n",
              "      <td>80.2</td>\n",
              "      <td>6.270232</td>\n",
              "      <td>3.640214</td>\n",
              "      <td>4.154185</td>\n",
              "      <td>4.384524</td>\n",
              "      <td>3.505557</td>\n",
              "    </tr>\n",
              "    <tr>\n",
              "      <th>2</th>\n",
              "      <td>3</td>\n",
              "      <td>35.6</td>\n",
              "      <td>560.3</td>\n",
              "      <td>39.3</td>\n",
              "      <td>69.8</td>\n",
              "      <td>80.4</td>\n",
              "      <td>6.328472</td>\n",
              "      <td>3.671225</td>\n",
              "      <td>4.245634</td>\n",
              "      <td>4.387014</td>\n",
              "      <td>3.572346</td>\n",
              "    </tr>\n",
              "    <tr>\n",
              "      <th>3</th>\n",
              "      <td>4</td>\n",
              "      <td>36.4</td>\n",
              "      <td>624.6</td>\n",
              "      <td>37.8</td>\n",
              "      <td>65.9</td>\n",
              "      <td>83.9</td>\n",
              "      <td>6.437111</td>\n",
              "      <td>3.632309</td>\n",
              "      <td>4.188138</td>\n",
              "      <td>4.429626</td>\n",
              "      <td>3.594569</td>\n",
              "    </tr>\n",
              "    <tr>\n",
              "      <th>4</th>\n",
              "      <td>5</td>\n",
              "      <td>36.7</td>\n",
              "      <td>666.4</td>\n",
              "      <td>38.4</td>\n",
              "      <td>64.5</td>\n",
              "      <td>85.5</td>\n",
              "      <td>6.501890</td>\n",
              "      <td>3.648057</td>\n",
              "      <td>4.166665</td>\n",
              "      <td>4.448516</td>\n",
              "      <td>3.602777</td>\n",
              "    </tr>\n",
              "    <tr>\n",
              "      <th>5</th>\n",
              "      <td>6</td>\n",
              "      <td>38.4</td>\n",
              "      <td>717.8</td>\n",
              "      <td>40.1</td>\n",
              "      <td>70.0</td>\n",
              "      <td>93.7</td>\n",
              "      <td>6.576191</td>\n",
              "      <td>3.691376</td>\n",
              "      <td>4.248495</td>\n",
              "      <td>4.540098</td>\n",
              "      <td>3.648057</td>\n",
              "    </tr>\n",
              "    <tr>\n",
              "      <th>6</th>\n",
              "      <td>7</td>\n",
              "      <td>40.4</td>\n",
              "      <td>768.2</td>\n",
              "      <td>38.6</td>\n",
              "      <td>73.2</td>\n",
              "      <td>106.1</td>\n",
              "      <td>6.644050</td>\n",
              "      <td>3.653252</td>\n",
              "      <td>4.293195</td>\n",
              "      <td>4.664382</td>\n",
              "      <td>3.698830</td>\n",
              "    </tr>\n",
              "    <tr>\n",
              "      <th>7</th>\n",
              "      <td>8</td>\n",
              "      <td>40.3</td>\n",
              "      <td>843.3</td>\n",
              "      <td>39.8</td>\n",
              "      <td>67.8</td>\n",
              "      <td>104.8</td>\n",
              "      <td>6.737323</td>\n",
              "      <td>3.683867</td>\n",
              "      <td>4.216562</td>\n",
              "      <td>4.652054</td>\n",
              "      <td>3.696351</td>\n",
              "    </tr>\n",
              "    <tr>\n",
              "      <th>8</th>\n",
              "      <td>9</td>\n",
              "      <td>41.8</td>\n",
              "      <td>911.6</td>\n",
              "      <td>39.7</td>\n",
              "      <td>79.1</td>\n",
              "      <td>114.0</td>\n",
              "      <td>6.815201</td>\n",
              "      <td>3.681351</td>\n",
              "      <td>4.370713</td>\n",
              "      <td>4.736198</td>\n",
              "      <td>3.732896</td>\n",
              "    </tr>\n",
              "    <tr>\n",
              "      <th>9</th>\n",
              "      <td>10</td>\n",
              "      <td>40.4</td>\n",
              "      <td>931.1</td>\n",
              "      <td>52.1</td>\n",
              "      <td>95.4</td>\n",
              "      <td>124.1</td>\n",
              "      <td>6.836367</td>\n",
              "      <td>3.953165</td>\n",
              "      <td>4.558079</td>\n",
              "      <td>4.821088</td>\n",
              "      <td>3.698830</td>\n",
              "    </tr>\n",
              "    <tr>\n",
              "      <th>10</th>\n",
              "      <td>11</td>\n",
              "      <td>40.7</td>\n",
              "      <td>1021.5</td>\n",
              "      <td>48.9</td>\n",
              "      <td>94.2</td>\n",
              "      <td>127.6</td>\n",
              "      <td>6.929027</td>\n",
              "      <td>3.889777</td>\n",
              "      <td>4.545420</td>\n",
              "      <td>4.848900</td>\n",
              "      <td>3.706228</td>\n",
              "    </tr>\n",
              "    <tr>\n",
              "      <th>11</th>\n",
              "      <td>12</td>\n",
              "      <td>40.1</td>\n",
              "      <td>1165.9</td>\n",
              "      <td>58.3</td>\n",
              "      <td>123.5</td>\n",
              "      <td>142.9</td>\n",
              "      <td>7.061249</td>\n",
              "      <td>4.065602</td>\n",
              "      <td>4.816241</td>\n",
              "      <td>4.962145</td>\n",
              "      <td>3.691376</td>\n",
              "    </tr>\n",
              "    <tr>\n",
              "      <th>12</th>\n",
              "      <td>13</td>\n",
              "      <td>42.7</td>\n",
              "      <td>1349.6</td>\n",
              "      <td>57.9</td>\n",
              "      <td>129.9</td>\n",
              "      <td>143.6</td>\n",
              "      <td>7.207564</td>\n",
              "      <td>4.058717</td>\n",
              "      <td>4.866765</td>\n",
              "      <td>4.967032</td>\n",
              "      <td>3.754199</td>\n",
              "    </tr>\n",
              "    <tr>\n",
              "      <th>13</th>\n",
              "      <td>14</td>\n",
              "      <td>44.1</td>\n",
              "      <td>1449.4</td>\n",
              "      <td>56.5</td>\n",
              "      <td>117.6</td>\n",
              "      <td>139.2</td>\n",
              "      <td>7.278905</td>\n",
              "      <td>4.034241</td>\n",
              "      <td>4.767289</td>\n",
              "      <td>4.935912</td>\n",
              "      <td>3.786460</td>\n",
              "    </tr>\n",
              "    <tr>\n",
              "      <th>14</th>\n",
              "      <td>15</td>\n",
              "      <td>46.7</td>\n",
              "      <td>1575.5</td>\n",
              "      <td>63.7</td>\n",
              "      <td>130.9</td>\n",
              "      <td>165.5</td>\n",
              "      <td>7.362328</td>\n",
              "      <td>4.154185</td>\n",
              "      <td>4.874434</td>\n",
              "      <td>5.108971</td>\n",
              "      <td>3.843744</td>\n",
              "    </tr>\n",
              "    <tr>\n",
              "      <th>15</th>\n",
              "      <td>16</td>\n",
              "      <td>50.6</td>\n",
              "      <td>1759.1</td>\n",
              "      <td>61.6</td>\n",
              "      <td>129.8</td>\n",
              "      <td>203.3</td>\n",
              "      <td>7.472558</td>\n",
              "      <td>4.120662</td>\n",
              "      <td>4.865995</td>\n",
              "      <td>5.314683</td>\n",
              "      <td>3.923952</td>\n",
              "    </tr>\n",
              "    <tr>\n",
              "      <th>16</th>\n",
              "      <td>17</td>\n",
              "      <td>50.1</td>\n",
              "      <td>1994.2</td>\n",
              "      <td>58.9</td>\n",
              "      <td>128.0</td>\n",
              "      <td>219.6</td>\n",
              "      <td>7.597998</td>\n",
              "      <td>4.075841</td>\n",
              "      <td>4.852030</td>\n",
              "      <td>5.391808</td>\n",
              "      <td>3.914021</td>\n",
              "    </tr>\n",
              "    <tr>\n",
              "      <th>17</th>\n",
              "      <td>18</td>\n",
              "      <td>51.7</td>\n",
              "      <td>2258.1</td>\n",
              "      <td>66.4</td>\n",
              "      <td>141.0</td>\n",
              "      <td>221.6</td>\n",
              "      <td>7.722279</td>\n",
              "      <td>4.195697</td>\n",
              "      <td>4.948760</td>\n",
              "      <td>5.400874</td>\n",
              "      <td>3.945458</td>\n",
              "    </tr>\n",
              "    <tr>\n",
              "      <th>18</th>\n",
              "      <td>19</td>\n",
              "      <td>52.9</td>\n",
              "      <td>2478.7</td>\n",
              "      <td>70.4</td>\n",
              "      <td>168.2</td>\n",
              "      <td>232.6</td>\n",
              "      <td>7.815490</td>\n",
              "      <td>4.254193</td>\n",
              "      <td>5.125154</td>\n",
              "      <td>5.449320</td>\n",
              "      <td>3.968403</td>\n",
              "    </tr>\n",
              "  </tbody>\n",
              "</table>\n",
              "</div>"
            ],
            "text/plain": [
              "     t     Y      X1    X2     X3     X4    log_X1    log_X2    log_X3  \\\n",
              "0    1  31.2   492.9  37.3   54.7   77.4  6.200306  3.618993  4.001864   \n",
              "1    2  33.3   528.6  38.1   63.7   80.2  6.270232  3.640214  4.154185   \n",
              "2    3  35.6   560.3  39.3   69.8   80.4  6.328472  3.671225  4.245634   \n",
              "3    4  36.4   624.6  37.8   65.9   83.9  6.437111  3.632309  4.188138   \n",
              "4    5  36.7   666.4  38.4   64.5   85.5  6.501890  3.648057  4.166665   \n",
              "5    6  38.4   717.8  40.1   70.0   93.7  6.576191  3.691376  4.248495   \n",
              "6    7  40.4   768.2  38.6   73.2  106.1  6.644050  3.653252  4.293195   \n",
              "7    8  40.3   843.3  39.8   67.8  104.8  6.737323  3.683867  4.216562   \n",
              "8    9  41.8   911.6  39.7   79.1  114.0  6.815201  3.681351  4.370713   \n",
              "9   10  40.4   931.1  52.1   95.4  124.1  6.836367  3.953165  4.558079   \n",
              "10  11  40.7  1021.5  48.9   94.2  127.6  6.929027  3.889777  4.545420   \n",
              "11  12  40.1  1165.9  58.3  123.5  142.9  7.061249  4.065602  4.816241   \n",
              "12  13  42.7  1349.6  57.9  129.9  143.6  7.207564  4.058717  4.866765   \n",
              "13  14  44.1  1449.4  56.5  117.6  139.2  7.278905  4.034241  4.767289   \n",
              "14  15  46.7  1575.5  63.7  130.9  165.5  7.362328  4.154185  4.874434   \n",
              "15  16  50.6  1759.1  61.6  129.8  203.3  7.472558  4.120662  4.865995   \n",
              "16  17  50.1  1994.2  58.9  128.0  219.6  7.597998  4.075841  4.852030   \n",
              "17  18  51.7  2258.1  66.4  141.0  221.6  7.722279  4.195697  4.948760   \n",
              "18  19  52.9  2478.7  70.4  168.2  232.6  7.815490  4.254193  5.125154   \n",
              "\n",
              "      log_X4     log_Y  \n",
              "0   4.348987  3.440418  \n",
              "1   4.384524  3.505557  \n",
              "2   4.387014  3.572346  \n",
              "3   4.429626  3.594569  \n",
              "4   4.448516  3.602777  \n",
              "5   4.540098  3.648057  \n",
              "6   4.664382  3.698830  \n",
              "7   4.652054  3.696351  \n",
              "8   4.736198  3.732896  \n",
              "9   4.821088  3.698830  \n",
              "10  4.848900  3.706228  \n",
              "11  4.962145  3.691376  \n",
              "12  4.967032  3.754199  \n",
              "13  4.935912  3.786460  \n",
              "14  5.108971  3.843744  \n",
              "15  5.314683  3.923952  \n",
              "16  5.391808  3.914021  \n",
              "17  5.400874  3.945458  \n",
              "18  5.449320  3.968403  "
            ]
          },
          "execution_count": 16,
          "metadata": {},
          "output_type": "execute_result"
        }
      ],
      "source": [
        "df_1"
      ]
    },
    {
      "cell_type": "markdown",
      "metadata": {
        "id": "13nqj0V0spJ1"
      },
      "source": [
        "Now you can build linear regression models based on the logarithms of the original features:"
      ]
    },
    {
      "cell_type": "code",
      "execution_count": 17,
      "metadata": {
        "id": "3NxBRtFJtKry"
      },
      "outputs": [],
      "source": [
        "import statsmodels.formula.api as smf"
      ]
    },
    {
      "cell_type": "code",
      "execution_count": 18,
      "metadata": {
        "colab": {
          "base_uri": "https://localhost:8080/"
        },
        "id": "CJbYqy0ys24-",
        "outputId": "9c1f8b27-4b95-4add-bd28-86d8ef5091f6"
      },
      "outputs": [
        {
          "name": "stdout",
          "output_type": "stream",
          "text": [
            "                            OLS Regression Results                            \n",
            "==============================================================================\n",
            "Dep. Variable:                  log_Y   R-squared:                       0.738\n",
            "Model:                            OLS   Adj. R-squared:                  0.722\n",
            "Method:                 Least Squares   F-statistic:                     47.86\n",
            "Date:                Mon, 25 Dec 2023   Prob (F-statistic):           2.49e-06\n",
            "Time:                        17:20:14   Log-Likelihood:                 22.538\n",
            "No. Observations:                  19   AIC:                            -41.08\n",
            "Df Residuals:                      17   BIC:                            -39.19\n",
            "Df Model:                           1                                         \n",
            "Covariance Type:            nonrobust                                         \n",
            "==============================================================================\n",
            "                 coef    std err          t      P>|t|      [0.025      0.975]\n",
            "------------------------------------------------------------------------------\n",
            "Intercept      1.5777      0.311      5.081      0.000       0.923       2.233\n",
            "log_X2         0.5527      0.080      6.918      0.000       0.384       0.721\n",
            "==============================================================================\n",
            "Omnibus:                        0.824   Durbin-Watson:                   0.780\n",
            "Prob(Omnibus):                  0.662   Jarque-Bera (JB):                0.757\n",
            "Skew:                          -0.228   Prob(JB):                        0.685\n",
            "Kurtosis:                       2.135   Cond. No.                         71.8\n",
            "==============================================================================\n",
            "\n",
            "Notes:\n",
            "[1] Standard Errors assume that the covariance matrix of the errors is correctly specified.\n"
          ]
        }
      ],
      "source": [
        "model1=smf.ols('log_Y~ log_X2', data=df_1) # модель 1\n",
        "fitted1=model1.fit()\n",
        "print(fitted1.summary())"
      ]
    },
    {
      "cell_type": "code",
      "execution_count": 19,
      "metadata": {
        "colab": {
          "base_uri": "https://localhost:8080/"
        },
        "id": "r-vRS3TptypY",
        "outputId": "dc70e592-a0b0-4a65-ac42-06fb9f75f853"
      },
      "outputs": [
        {
          "name": "stdout",
          "output_type": "stream",
          "text": [
            "                            OLS Regression Results                            \n",
            "==============================================================================\n",
            "Dep. Variable:                  log_Y   R-squared:                       0.939\n",
            "Model:                            OLS   Adj. R-squared:                  0.935\n",
            "Method:                 Least Squares   F-statistic:                     259.8\n",
            "Date:                Mon, 25 Dec 2023   Prob (F-statistic):           9.84e-12\n",
            "Time:                        17:20:14   Log-Likelihood:                 36.323\n",
            "No. Observations:                  19   AIC:                            -68.65\n",
            "Df Residuals:                      17   BIC:                            -66.76\n",
            "Df Model:                           1                                         \n",
            "Covariance Type:            nonrobust                                         \n",
            "==============================================================================\n",
            "                 coef    std err          t      P>|t|      [0.025      0.975]\n",
            "------------------------------------------------------------------------------\n",
            "Intercept      1.7460      0.123     14.204      0.000       1.487       2.005\n",
            "log_X1         0.2849      0.018     16.119      0.000       0.248       0.322\n",
            "==============================================================================\n",
            "Omnibus:                        0.699   Durbin-Watson:                   0.753\n",
            "Prob(Omnibus):                  0.705   Jarque-Bera (JB):                0.672\n",
            "Skew:                          -0.381   Prob(JB):                        0.715\n",
            "Kurtosis:                       2.484   Cond. No.                         101.\n",
            "==============================================================================\n",
            "\n",
            "Notes:\n",
            "[1] Standard Errors assume that the covariance matrix of the errors is correctly specified.\n"
          ]
        }
      ],
      "source": [
        "model2=smf.ols('log_Y~ log_X1', data=df_1) # модель 2\n",
        "fitted2=model2.fit()\n",
        "print(fitted2.summary())"
      ]
    },
    {
      "cell_type": "code",
      "execution_count": 20,
      "metadata": {
        "colab": {
          "base_uri": "https://localhost:8080/"
        },
        "id": "N8To7O20t-9H",
        "outputId": "7e6a0ffb-6849-490d-e9bd-ab699736e603"
      },
      "outputs": [
        {
          "name": "stdout",
          "output_type": "stream",
          "text": [
            "                            OLS Regression Results                            \n",
            "==============================================================================\n",
            "Dep. Variable:                  log_Y   R-squared:                       0.964\n",
            "Model:                            OLS   Adj. R-squared:                  0.959\n",
            "Method:                 Least Squares   F-statistic:                     213.7\n",
            "Date:                Mon, 25 Dec 2023   Prob (F-statistic):           2.87e-12\n",
            "Time:                        17:20:14   Log-Likelihood:                 41.376\n",
            "No. Observations:                  19   AIC:                            -76.75\n",
            "Df Residuals:                      16   BIC:                            -73.92\n",
            "Df Model:                           2                                         \n",
            "Covariance Type:            nonrobust                                         \n",
            "==============================================================================\n",
            "                 coef    std err          t      P>|t|      [0.025      0.975]\n",
            "------------------------------------------------------------------------------\n",
            "Intercept      2.0185      0.127     15.937      0.000       1.750       2.287\n",
            "log_X1         0.4161      0.042     10.011      0.000       0.328       0.504\n",
            "log_X2        -0.3048      0.091     -3.352      0.004      -0.498      -0.112\n",
            "==============================================================================\n",
            "Omnibus:                        0.235   Durbin-Watson:                   1.566\n",
            "Prob(Omnibus):                  0.889   Jarque-Bera (JB):                0.415\n",
            "Skew:                           0.166   Prob(JB):                        0.812\n",
            "Kurtosis:                       2.356   Cond. No.                         170.\n",
            "==============================================================================\n",
            "\n",
            "Notes:\n",
            "[1] Standard Errors assume that the covariance matrix of the errors is correctly specified.\n"
          ]
        }
      ],
      "source": [
        "model3=smf.ols('log_Y~ log_X1+log_X2', data=df_1) # модель 3\n",
        "fitted3=model3.fit()\n",
        "print(fitted3.summary())"
      ]
    },
    {
      "cell_type": "code",
      "execution_count": 21,
      "metadata": {
        "colab": {
          "base_uri": "https://localhost:8080/"
        },
        "id": "4zyHPhXcuRtd",
        "outputId": "3d4be7ab-e302-472d-b410-f8293a7cf6e8"
      },
      "outputs": [
        {
          "name": "stdout",
          "output_type": "stream",
          "text": [
            "                            OLS Regression Results                            \n",
            "==============================================================================\n",
            "Dep. Variable:                  log_Y   R-squared:                       0.946\n",
            "Model:                            OLS   Adj. R-squared:                  0.935\n",
            "Method:                 Least Squares   F-statistic:                     87.74\n",
            "Date:                Mon, 25 Dec 2023   Prob (F-statistic):           9.73e-10\n",
            "Time:                        17:20:15   Log-Likelihood:                 37.560\n",
            "No. Observations:                  19   AIC:                            -67.12\n",
            "Df Residuals:                      15   BIC:                            -63.34\n",
            "Df Model:                           3                                         \n",
            "Covariance Type:            nonrobust                                         \n",
            "==============================================================================\n",
            "                 coef    std err          t      P>|t|      [0.025      0.975]\n",
            "------------------------------------------------------------------------------\n",
            "Intercept      2.3152      0.222     10.450      0.000       1.843       2.787\n",
            "log_X2        -0.4875      0.211     -2.310      0.036      -0.937      -0.038\n",
            "log_X3         0.2374      0.156      1.526      0.148      -0.094       0.569\n",
            "log_X4         0.4601      0.075      6.112      0.000       0.300       0.620\n",
            "==============================================================================\n",
            "Omnibus:                        2.117   Durbin-Watson:                   1.235\n",
            "Prob(Omnibus):                  0.347   Jarque-Bera (JB):                1.739\n",
            "Skew:                          -0.641   Prob(JB):                        0.419\n",
            "Kurtosis:                       2.255   Cond. No.                         288.\n",
            "==============================================================================\n",
            "\n",
            "Notes:\n",
            "[1] Standard Errors assume that the covariance matrix of the errors is correctly specified.\n"
          ]
        }
      ],
      "source": [
        "model4=smf.ols('log_Y~ log_X2+log_X3+log_X4', data=df_1) # модель 4\n",
        "fitted4=model4.fit()\n",
        "print(fitted4.summary())"
      ]
    },
    {
      "cell_type": "markdown",
      "metadata": {
        "id": "iJGP4M1qui3w"
      },
      "source": [
        "Thus, according to the R-squared, the best model is the 3rd model, which takes into account two parameters - the logarithm of average per capita income and the logarithm of the cost of one pound of chickens. The model has a positive coefficient for the income parameter and a negative coefficient for the cost of chickens. It is logical that with an increase of income, the consumption of chicken meat increases, and with a rise of the price of a product, consumption decreases, even if both characteristics are taken logarithmically. The model has significant coefficients according to the t-test, and their confidence intervals do not cross zero. The worst regression model in terms of R-squared is the first one; it is underfitted due to the lack of features used in the model. The model has only one feature - the logarithm of the cost of a pound of chickens, and the weight for this feature is similarly significant. All models are significant in the F test and that in model 4 there is a non-significant parameter for the logarithm of the cost of a pound of pork, the confidence interval of which crosses zero."
      ]
    },
    {
      "cell_type": "markdown",
      "metadata": {
        "id": "Pg4TPMDadqk_"
      },
      "source": [
        "**b)** Let's do the Shapiro-Wilk test. It is necessary to test features with a small number of features for normal distribution. Let's check the hypothesis about the normality of data distribution with alpha = 0.05:"
      ]
    },
    {
      "cell_type": "code",
      "execution_count": 22,
      "metadata": {
        "colab": {
          "base_uri": "https://localhost:8080/"
        },
        "id": "NBcMEpvVed2C",
        "outputId": "a0c0ebf3-b2da-45b7-db9a-968059f2b528"
      },
      "outputs": [
        {
          "name": "stdout",
          "output_type": "stream",
          "text": [
            "X1 ShapiroResult(statistic=0.896443247795105, pvalue=0.04197002574801445)\n",
            "X2 ShapiroResult(statistic=0.8548540472984314, pvalue=0.008054640144109726)\n",
            "X3 ShapiroResult(statistic=0.89530348777771, pvalue=0.04003702849149704)\n",
            "X4 ShapiroResult(statistic=0.8776261210441589, pvalue=0.01952611841261387)\n"
          ]
        }
      ],
      "source": [
        "print('X1', sc.stats.shapiro(df_1['X1']))\n",
        "print('X2', sc.stats.shapiro(df_1['X2']))\n",
        "print('X3', sc.stats.shapiro(df_1['X3']))\n",
        "print('X4', sc.stats.shapiro(df_1['X4']))"
      ]
    },
    {
      "cell_type": "markdown",
      "metadata": {
        "id": "2MPSCXfQfoRO"
      },
      "source": [
        "The results of all tests showed a p-value below 0.05, which means that all features in the data set are not normally distributed"
      ]
    },
    {
      "cell_type": "markdown",
      "metadata": {
        "id": "nI5dDduThWAD"
      },
      "source": [
        "**b)** Let's carry out the Box-Cox transformation for all features. It is needed to convert non-normally distributed data to normally distributed data:"
      ]
    },
    {
      "cell_type": "code",
      "execution_count": 23,
      "metadata": {
        "colab": {
          "base_uri": "https://localhost:8080/"
        },
        "id": "pe2m4PSBi6D-",
        "outputId": "6a6abb04-5bf9-4795-b035-3b23391f2f29"
      },
      "outputs": [
        {
          "name": "stdout",
          "output_type": "stream",
          "text": [
            "lambda X1: -0.30309360956397147\n",
            "lambda X2: -0.7909749202080213\n",
            "lambda X3: -0.2513261638346239\n",
            "lambda X4: -0.5852037748679675\n"
          ]
        }
      ],
      "source": [
        "X1_transformed, best_lambda1 = sc.stats.boxcox(df_1.X1)\n",
        "X2_transformed, best_lambda2 = sc.stats.boxcox(df_1.X2)\n",
        "X3_transformed, best_lambda3 = sc.stats.boxcox(df_1.X3)\n",
        "X4_transformed, best_lambda4 = sc.stats.boxcox(df_1.X4)\n",
        "\n",
        "print('lambda X1:', best_lambda1)\n",
        "print('lambda X2:', best_lambda2)\n",
        "print('lambda X3:', best_lambda3)\n",
        "print('lambda X4:', best_lambda4)"
      ]
    },
    {
      "cell_type": "markdown",
      "metadata": {
        "id": "syhQOjVckuto"
      },
      "source": [
        "**с)** Let's perform a Mann-Whitney test to compare features X3 and X4:"
      ]
    },
    {
      "cell_type": "code",
      "execution_count": 24,
      "metadata": {
        "colab": {
          "base_uri": "https://localhost:8080/"
        },
        "id": "74BJTMp3ljh8",
        "outputId": "0973d9f2-d733-437e-c011-8001e1733a17"
      },
      "outputs": [
        {
          "data": {
            "text/plain": [
              "MannwhitneyuResult(statistic=361.0, pvalue=1.4798065133032065e-07)"
            ]
          },
          "execution_count": 24,
          "metadata": {},
          "output_type": "execute_result"
        }
      ],
      "source": [
        "sc.stats.mannwhitneyu(X3_transformed, X4_transformed)"
      ]
    },
    {
      "cell_type": "markdown",
      "metadata": {
        "id": "p0-Ttr_6mcxQ"
      },
      "source": [
        "The test showed a p-value below 0.05, which means the alternative hypothesis is accepted and the features are very different from each other"
      ]
    },
    {
      "cell_type": "markdown",
      "metadata": {
        "id": "QjAeLnYdnCMp"
      },
      "source": [
        "**d)** Let us calculate the Fligner-Clipper criterion to compare the variances of features X2 and X3:"
      ]
    },
    {
      "cell_type": "code",
      "execution_count": 25,
      "metadata": {
        "colab": {
          "base_uri": "https://localhost:8080/"
        },
        "id": "Wa1wCC3FnR5b",
        "outputId": "bd82fcdb-b61e-480d-8e11-5f2f4cf5857c"
      },
      "outputs": [
        {
          "data": {
            "text/plain": [
              "FlignerResult(statistic=17.56785668435604, pvalue=2.7723506703585003e-05)"
            ]
          },
          "execution_count": 25,
          "metadata": {},
          "output_type": "execute_result"
        }
      ],
      "source": [
        "sc.stats.fligner(X2_transformed, X3_transformed)"
      ]
    },
    {
      "cell_type": "markdown",
      "metadata": {
        "id": "q4xlFgmxnc9E"
      },
      "source": [
        "The test shows a p-value below 0.05, so the difference between the variances of the two features is significant"
      ]
    },
    {
      "cell_type": "markdown",
      "metadata": {
        "id": "6AsagxZ5swz7"
      },
      "source": [
        "t-test is necessary to compare the means of two features:"
      ]
    },
    {
      "cell_type": "code",
      "execution_count": 26,
      "metadata": {
        "colab": {
          "base_uri": "https://localhost:8080/"
        },
        "id": "DtpF-omWtPxx",
        "outputId": "b8f6ca80-608e-4414-82fa-ebfa2a6c9f41"
      },
      "outputs": [
        {
          "data": {
            "text/plain": [
              "Ttest_indResult(statistic=-59.12265456715974, pvalue=1.8753647721205238e-37)"
            ]
          },
          "execution_count": 26,
          "metadata": {},
          "output_type": "execute_result"
        }
      ],
      "source": [
        "sc.stats.ttest_ind(X2_transformed, X3_transformed)"
      ]
    },
    {
      "cell_type": "markdown",
      "metadata": {
        "id": "8iOzS3FKt8Gy"
      },
      "source": [
        "The means of the two features are significantly different, so the null hypothesis is rejected. Thus, the price distributions for chickens and pork are very different from each other - on average, the cost of one pound of chicken is less than the cost of one pound of pork."
      ]
    },
    {
      "cell_type": "markdown",
      "metadata": {
        "id": "3jSwoc-WuZRi"
      },
      "source": [
        "### Task № 2"
      ]
    },
    {
      "cell_type": "markdown",
      "metadata": {
        "id": "rKO1kBKlPOai"
      },
      "source": [
        "In this task, polynomial features will be created in order to increase R-squared of the model"
      ]
    },
    {
      "cell_type": "code",
      "execution_count": 27,
      "metadata": {
        "colab": {
          "base_uri": "https://localhost:8080/",
          "height": 206
        },
        "id": "1DfjKOh9ubf5",
        "outputId": "51395824-317b-4f40-c461-75ab60b15936"
      },
      "outputs": [
        {
          "data": {
            "text/html": [
              "<div>\n",
              "<style scoped>\n",
              "    .dataframe tbody tr th:only-of-type {\n",
              "        vertical-align: middle;\n",
              "    }\n",
              "\n",
              "    .dataframe tbody tr th {\n",
              "        vertical-align: top;\n",
              "    }\n",
              "\n",
              "    .dataframe thead th {\n",
              "        text-align: right;\n",
              "    }\n",
              "</style>\n",
              "<table border=\"1\" class=\"dataframe\">\n",
              "  <thead>\n",
              "    <tr style=\"text-align: right;\">\n",
              "      <th></th>\n",
              "      <th>staff</th>\n",
              "      <th>adverts</th>\n",
              "      <th>projects</th>\n",
              "      <th>profitability</th>\n",
              "    </tr>\n",
              "  </thead>\n",
              "  <tbody>\n",
              "    <tr>\n",
              "      <th>0</th>\n",
              "      <td>8.768088</td>\n",
              "      <td>24.515827</td>\n",
              "      <td>8.499298</td>\n",
              "      <td>142.095390</td>\n",
              "    </tr>\n",
              "    <tr>\n",
              "      <th>1</th>\n",
              "      <td>9.129025</td>\n",
              "      <td>27.002612</td>\n",
              "      <td>7.414980</td>\n",
              "      <td>123.296482</td>\n",
              "    </tr>\n",
              "    <tr>\n",
              "      <th>2</th>\n",
              "      <td>8.269365</td>\n",
              "      <td>25.496132</td>\n",
              "      <td>6.524985</td>\n",
              "      <td>110.811052</td>\n",
              "    </tr>\n",
              "    <tr>\n",
              "      <th>3</th>\n",
              "      <td>9.838063</td>\n",
              "      <td>18.273113</td>\n",
              "      <td>5.211359</td>\n",
              "      <td>90.649576</td>\n",
              "    </tr>\n",
              "    <tr>\n",
              "      <th>4</th>\n",
              "      <td>10.382268</td>\n",
              "      <td>11.992892</td>\n",
              "      <td>7.973063</td>\n",
              "      <td>84.343632</td>\n",
              "    </tr>\n",
              "  </tbody>\n",
              "</table>\n",
              "</div>"
            ],
            "text/plain": [
              "       staff    adverts  projects  profitability\n",
              "0   8.768088  24.515827  8.499298     142.095390\n",
              "1   9.129025  27.002612  7.414980     123.296482\n",
              "2   8.269365  25.496132  6.524985     110.811052\n",
              "3   9.838063  18.273113  5.211359      90.649576\n",
              "4  10.382268  11.992892  7.973063      84.343632"
            ]
          },
          "execution_count": 27,
          "metadata": {},
          "output_type": "execute_result"
        }
      ],
      "source": [
        "df_2 = pd.read_excel('task2.xlsx')\n",
        "df_2.head()"
      ]
    },
    {
      "cell_type": "markdown",
      "metadata": {
        "id": "eZcP9nN9uztT"
      },
      "source": [
        "Creating polynomial features allows you to generate more features to train a regression model and take into account the influence of one feature on another, however there may bw overfitting with higher degrees of polynomials"
      ]
    },
    {
      "cell_type": "markdown",
      "metadata": {
        "id": "UGFa8gFzwKkZ"
      },
      "source": [
        "Let's split target feature from the rest of dataset:"
      ]
    },
    {
      "cell_type": "code",
      "execution_count": 28,
      "metadata": {
        "id": "JclOp3gyvDYp"
      },
      "outputs": [],
      "source": [
        "X_2 = df_2.drop('profitability', axis=1)\n",
        "y_2 = df_2.profitability"
      ]
    },
    {
      "cell_type": "markdown",
      "metadata": {
        "id": "IPgddC5GwfA_"
      },
      "source": [
        "Let's create feature polynomials and compare regression models obtained through the use of features generated by polynomials of degrees from 2 to 5:"
      ]
    },
    {
      "cell_type": "code",
      "execution_count": 29,
      "metadata": {
        "id": "luVInAHLxmlC"
      },
      "outputs": [],
      "source": [
        "from sklearn.preprocessing import PolynomialFeatures\n",
        "from sklearn.linear_model import LinearRegression\n",
        "from sklearn.model_selection import train_test_split"
      ]
    },
    {
      "cell_type": "code",
      "execution_count": 33,
      "metadata": {
        "id": "hV9d565_wnl3"
      },
      "outputs": [],
      "source": [
        "degrees = list(range(2,6))\n",
        "r_2_values_train = []\n",
        "r_2_values_test = []\n",
        "for deg in range(2,6):\n",
        "  polynom=PolynomialFeatures(degree=deg)\n",
        "  X_poly=polynom.fit_transform(X_2)\n",
        "  X_train, X_test, y_train, y_test= train_test_split(X_poly, y_2, test_size=0.25, random_state=0)\n",
        "  reg=LinearRegression()\n",
        "  reg.fit(X_train,y_train)\n",
        "  r_2_values_train.append(reg.score(X_train,y_train))\n",
        "  r_2_values_test.append(reg.score(X_test,y_test))"
      ]
    },
    {
      "cell_type": "code",
      "execution_count": 34,
      "metadata": {
        "colab": {
          "base_uri": "https://localhost:8080/",
          "height": 175
        },
        "id": "sOPg-43c4J5P",
        "outputId": "8817bf55-f464-4f61-9a2b-e8f25b637c04"
      },
      "outputs": [
        {
          "data": {
            "text/html": [
              "<div>\n",
              "<style scoped>\n",
              "    .dataframe tbody tr th:only-of-type {\n",
              "        vertical-align: middle;\n",
              "    }\n",
              "\n",
              "    .dataframe tbody tr th {\n",
              "        vertical-align: top;\n",
              "    }\n",
              "\n",
              "    .dataframe thead th {\n",
              "        text-align: right;\n",
              "    }\n",
              "</style>\n",
              "<table border=\"1\" class=\"dataframe\">\n",
              "  <thead>\n",
              "    <tr style=\"text-align: right;\">\n",
              "      <th></th>\n",
              "      <th>polynom</th>\n",
              "      <th>R^2 train</th>\n",
              "      <th>R^2 test</th>\n",
              "    </tr>\n",
              "  </thead>\n",
              "  <tbody>\n",
              "    <tr>\n",
              "      <th>0</th>\n",
              "      <td>2</td>\n",
              "      <td>0.913580</td>\n",
              "      <td>0.861281</td>\n",
              "    </tr>\n",
              "    <tr>\n",
              "      <th>1</th>\n",
              "      <td>3</td>\n",
              "      <td>0.969758</td>\n",
              "      <td>0.231792</td>\n",
              "    </tr>\n",
              "    <tr>\n",
              "      <th>2</th>\n",
              "      <td>4</td>\n",
              "      <td>0.845518</td>\n",
              "      <td>-162.726092</td>\n",
              "    </tr>\n",
              "    <tr>\n",
              "      <th>3</th>\n",
              "      <td>5</td>\n",
              "      <td>1.000000</td>\n",
              "      <td>-43106.418464</td>\n",
              "    </tr>\n",
              "  </tbody>\n",
              "</table>\n",
              "</div>"
            ],
            "text/plain": [
              "   polynom  R^2 train      R^2 test\n",
              "0        2   0.913580      0.861281\n",
              "1        3   0.969758      0.231792\n",
              "2        4   0.845518   -162.726092\n",
              "3        5   1.000000 -43106.418464"
            ]
          },
          "execution_count": 34,
          "metadata": {},
          "output_type": "execute_result"
        }
      ],
      "source": [
        "polynom_table = pd.DataFrame({'polynom': degrees, 'R^2 train': r_2_values_train, 'R^2 test': r_2_values_test})\n",
        "polynom_table"
      ]
    },
    {
      "cell_type": "markdown",
      "metadata": {
        "id": "YGDcuUhX2i9C"
      },
      "source": [
        "**a)** Thus, with a polynomial degree of 5, the highest value of R-squared is achieved, equal to one.\n",
        "\n",
        "**b)** However, overfitting of the model occurs already at the polynomial degree equal to 4, as evidenced by the negative coefficient of R-squared. At high values of the R-squared on the training set, the model tries to adjust to each observation in the data set, and therefore its generalization ability is quite low. Thus, on new test data the model shows unsatisfactory quality and even a negative R-squared. Moreover, as the number of features increases, R^2 tends to increase, which similarly proves that the model is overfitting."
      ]
    },
    {
      "cell_type": "markdown",
      "metadata": {
        "id": "Ism43F0g8Bct"
      },
      "source": [
        "**с)** The most optimal degree of a polynomial is 3rd. At a given degree of polynomial, the model is neither underfitted nor overfitted. In addition, the model is easy to interpret, since the number of features of such a model is small (20) in comparison with features created by polynomials of higher degrees."
      ]
    },
    {
      "cell_type": "code",
      "execution_count": 35,
      "metadata": {
        "colab": {
          "base_uri": "https://localhost:8080/"
        },
        "id": "da7_ZfQ_9pJ1",
        "outputId": "c17d5493-a37b-4700-ba33-35447a8a8f90"
      },
      "outputs": [
        {
          "data": {
            "text/plain": [
              "(50, 20)"
            ]
          },
          "execution_count": 35,
          "metadata": {},
          "output_type": "execute_result"
        }
      ],
      "source": [
        "PolynomialFeatures(degree=3).fit_transform(X_2).shape"
      ]
    },
    {
      "cell_type": "markdown",
      "metadata": {
        "id": "LDx9uPo7zFXL"
      },
      "source": [
        "### Task № 3"
      ]
    },
    {
      "cell_type": "markdown",
      "metadata": {
        "id": "zZ9CzcmlPbCk"
      },
      "source": [
        "In this task, PCA will be applied for the data in order to reduce the amount of features"
      ]
    },
    {
      "cell_type": "code",
      "execution_count": 38,
      "metadata": {
        "colab": {
          "base_uri": "https://localhost:8080/",
          "height": 206
        },
        "id": "lt5SnCQ3zKFQ",
        "outputId": "271b366b-74cf-4794-af6e-27531a6a2de7"
      },
      "outputs": [
        {
          "data": {
            "text/html": [
              "<div>\n",
              "<style scoped>\n",
              "    .dataframe tbody tr th:only-of-type {\n",
              "        vertical-align: middle;\n",
              "    }\n",
              "\n",
              "    .dataframe tbody tr th {\n",
              "        vertical-align: top;\n",
              "    }\n",
              "\n",
              "    .dataframe thead th {\n",
              "        text-align: right;\n",
              "    }\n",
              "</style>\n",
              "<table border=\"1\" class=\"dataframe\">\n",
              "  <thead>\n",
              "    <tr style=\"text-align: right;\">\n",
              "      <th></th>\n",
              "      <th>id</th>\n",
              "      <th>x1</th>\n",
              "      <th>x2</th>\n",
              "      <th>x3</th>\n",
              "      <th>x4</th>\n",
              "      <th>x5</th>\n",
              "      <th>x6</th>\n",
              "      <th>x7</th>\n",
              "      <th>x8</th>\n",
              "      <th>x9</th>\n",
              "      <th>x10</th>\n",
              "      <th>x11</th>\n",
              "      <th>x12</th>\n",
              "      <th>x13</th>\n",
              "      <th>x14</th>\n",
              "    </tr>\n",
              "  </thead>\n",
              "  <tbody>\n",
              "    <tr>\n",
              "      <th>0</th>\n",
              "      <td>96</td>\n",
              "      <td>0</td>\n",
              "      <td>60.96</td>\n",
              "      <td>2.68</td>\n",
              "      <td>186.81</td>\n",
              "      <td>0.67</td>\n",
              "      <td>4.02</td>\n",
              "      <td>45.11</td>\n",
              "      <td>5.93</td>\n",
              "      <td>0.67</td>\n",
              "      <td>705.98</td>\n",
              "      <td>0</td>\n",
              "      <td>42.02</td>\n",
              "      <td>2.68</td>\n",
              "      <td>100.00</td>\n",
              "    </tr>\n",
              "    <tr>\n",
              "      <th>1</th>\n",
              "      <td>97</td>\n",
              "      <td>0</td>\n",
              "      <td>55.02</td>\n",
              "      <td>7.42</td>\n",
              "      <td>11.34</td>\n",
              "      <td>2.18</td>\n",
              "      <td>4.36</td>\n",
              "      <td>89.58</td>\n",
              "      <td>3.29</td>\n",
              "      <td>1.31</td>\n",
              "      <td>568.75</td>\n",
              "      <td>2</td>\n",
              "      <td>29.96</td>\n",
              "      <td>4.72</td>\n",
              "      <td>100.00</td>\n",
              "    </tr>\n",
              "    <tr>\n",
              "      <th>2</th>\n",
              "      <td>99</td>\n",
              "      <td>0</td>\n",
              "      <td>69.08</td>\n",
              "      <td>51.50</td>\n",
              "      <td>56.98</td>\n",
              "      <td>23.53</td>\n",
              "      <td>28.41</td>\n",
              "      <td>129.33</td>\n",
              "      <td>16.78</td>\n",
              "      <td>9.92</td>\n",
              "      <td>806.07</td>\n",
              "      <td>18</td>\n",
              "      <td>29.21</td>\n",
              "      <td>11.24</td>\n",
              "      <td>41.70</td>\n",
              "    </tr>\n",
              "    <tr>\n",
              "      <th>3</th>\n",
              "      <td>101</td>\n",
              "      <td>0</td>\n",
              "      <td>53.54</td>\n",
              "      <td>64.43</td>\n",
              "      <td>59.06</td>\n",
              "      <td>1.34</td>\n",
              "      <td>2.68</td>\n",
              "      <td>86.71</td>\n",
              "      <td>9.09</td>\n",
              "      <td>2.68</td>\n",
              "      <td>675.82</td>\n",
              "      <td>0</td>\n",
              "      <td>21.33</td>\n",
              "      <td>8.51</td>\n",
              "      <td>32.17</td>\n",
              "    </tr>\n",
              "    <tr>\n",
              "      <th>4</th>\n",
              "      <td>103</td>\n",
              "      <td>0</td>\n",
              "      <td>61.61</td>\n",
              "      <td>56.86</td>\n",
              "      <td>96.73</td>\n",
              "      <td>19.57</td>\n",
              "      <td>20.31</td>\n",
              "      <td>88.33</td>\n",
              "      <td>13.87</td>\n",
              "      <td>1.85</td>\n",
              "      <td>705.08</td>\n",
              "      <td>6</td>\n",
              "      <td>18.79</td>\n",
              "      <td>3.14</td>\n",
              "      <td>74.96</td>\n",
              "    </tr>\n",
              "  </tbody>\n",
              "</table>\n",
              "</div>"
            ],
            "text/plain": [
              "    id  x1     x2     x3      x4     x5     x6      x7     x8    x9     x10  \\\n",
              "0   96   0  60.96   2.68  186.81   0.67   4.02   45.11   5.93  0.67  705.98   \n",
              "1   97   0  55.02   7.42   11.34   2.18   4.36   89.58   3.29  1.31  568.75   \n",
              "2   99   0  69.08  51.50   56.98  23.53  28.41  129.33  16.78  9.92  806.07   \n",
              "3  101   0  53.54  64.43   59.06   1.34   2.68   86.71   9.09  2.68  675.82   \n",
              "4  103   0  61.61  56.86   96.73  19.57  20.31   88.33  13.87  1.85  705.08   \n",
              "\n",
              "   x11    x12    x13     x14  \n",
              "0    0  42.02   2.68  100.00  \n",
              "1    2  29.96   4.72  100.00  \n",
              "2   18  29.21  11.24   41.70  \n",
              "3    0  21.33   8.51   32.17  \n",
              "4    6  18.79   3.14   74.96  "
            ]
          },
          "execution_count": 38,
          "metadata": {},
          "output_type": "execute_result"
        }
      ],
      "source": [
        "df_3 = pd.read_excel('task3.xlsx')\n",
        "df_3.head()"
      ]
    },
    {
      "cell_type": "markdown",
      "metadata": {
        "id": "u67dZPdv0jZU"
      },
      "source": [
        "First, it is necessary to standardize the features:"
      ]
    },
    {
      "cell_type": "code",
      "execution_count": 39,
      "metadata": {
        "id": "OtXeVrgn2S3b"
      },
      "outputs": [],
      "source": [
        "from sklearn.preprocessing import StandardScaler"
      ]
    },
    {
      "cell_type": "code",
      "execution_count": 40,
      "metadata": {
        "colab": {
          "base_uri": "https://localhost:8080/"
        },
        "id": "zDy3rOQe2ZwU",
        "outputId": "2db3ccd4-9fc2-4443-dba4-11c921b3582f"
      },
      "outputs": [
        {
          "data": {
            "text/plain": [
              "array([[-0.32485018, -0.61561866, -0.28126379, ...,  0.42425158,\n",
              "        -0.67851619,  1.1796584 ],\n",
              "       [-0.32485018, -1.10851642, -0.27364831, ..., -0.38906371,\n",
              "        -0.4293544 ,  1.1796584 ],\n",
              "       [-0.32485018,  0.05817423, -0.20282756, ..., -0.43964302,\n",
              "         0.36698623, -0.65537372],\n",
              "       ...,\n",
              "       [-0.32485018,  0.31375085, -0.24308999, ..., -1.6575928 ,\n",
              "        -0.2656893 , -1.96790956],\n",
              "       [-0.32485018,  1.62814487, -0.25881901, ...,  0.61780174,\n",
              "         3.55234873, -1.4044949 ],\n",
              "       [-0.32485018,  0.65396647, -0.28556959, ...,  1.17552293,\n",
              "        -0.29622383, -1.96790956]])"
            ]
          },
          "execution_count": 40,
          "metadata": {},
          "output_type": "execute_result"
        }
      ],
      "source": [
        "df_3_std = StandardScaler().fit_transform(df_3.drop('id', axis=1))\n",
        "df_3_std"
      ]
    },
    {
      "cell_type": "markdown",
      "metadata": {
        "id": "VM32bJVW3bS1"
      },
      "source": [
        "**а)** Using a loop, let's go through the number of principal components from 1 to 10 and find the minimum number of components that will explain 75% of the variance in the data:"
      ]
    },
    {
      "cell_type": "code",
      "execution_count": 41,
      "metadata": {
        "id": "UgiAO0bs2qYv"
      },
      "outputs": [],
      "source": [
        "from sklearn.decomposition import PCA"
      ]
    },
    {
      "cell_type": "code",
      "execution_count": 42,
      "metadata": {
        "colab": {
          "base_uri": "https://localhost:8080/"
        },
        "id": "t5MvmTJo3E34",
        "outputId": "537b0753-4774-476b-a381-770769f4426a"
      },
      "outputs": [
        {
          "name": "stdout",
          "output_type": "stream",
          "text": [
            "Min amount of principal components:  5\n",
            "Rate of explained variance:  0.7792865030081405\n"
          ]
        }
      ],
      "source": [
        "explained_var = 0.75\n",
        "for n in range(1,11):\n",
        "  pca = PCA(n_components = n)\n",
        "  pca_result = pca.fit_transform(df_3_std)\n",
        "  sum_explained_var = np.sum(pca.explained_variance_ratio_)\n",
        "  if sum_explained_var > 0.75:\n",
        "    break\n",
        "\n",
        "print('Min amount of principal components: ', n)\n",
        "print('Rate of explained variance: ', sum_explained_var)"
      ]
    },
    {
      "cell_type": "markdown",
      "metadata": {
        "id": "v6zjBOHW5iXw"
      },
      "source": [
        "Thus, at least 5 principal components are needed to explain 75% of the variance"
      ]
    },
    {
      "cell_type": "markdown",
      "metadata": {
        "id": "qSngV9kX_55D"
      },
      "source": [
        "**b)** The main components are linear combinations of eigenvectors to which the maximum eigenvalues with the original features are associated. You can find the eigenvectors using the appropriate code:"
      ]
    },
    {
      "cell_type": "code",
      "execution_count": 43,
      "metadata": {
        "colab": {
          "base_uri": "https://localhost:8080/"
        },
        "id": "_16HkRNj7Jz0",
        "outputId": "c8373ca1-6429-4635-ba1b-171727726992"
      },
      "outputs": [
        {
          "data": {
            "text/plain": [
              "array([[ 0.28607737,  0.13099801,  0.3411948 ,  0.32879358,  0.37793811,\n",
              "         0.3846081 ,  0.32176089,  0.2020661 ,  0.1550142 ,  0.1826431 ,\n",
              "         0.28062705,  0.09893056,  0.30772848,  0.02711555],\n",
              "       [-0.02481524, -0.28601704,  0.22033491,  0.20743165,  0.1094939 ,\n",
              "         0.08495492, -0.13651277, -0.16075792,  0.16134255, -0.49870019,\n",
              "         0.09218763, -0.59425588,  0.03930942, -0.35270505],\n",
              "       [ 0.00682614, -0.55206542, -0.06754983, -0.0836795 , -0.07167981,\n",
              "        -0.03790917,  0.19320196,  0.35538852,  0.34610297, -0.20997499,\n",
              "        -0.18632046, -0.01268651,  0.17018051,  0.5345039 ],\n",
              "       [-0.39403135,  0.08923343,  0.25780591,  0.1952913 ,  0.06517335,\n",
              "         0.00273489, -0.38366955,  0.0737562 ,  0.514355  ,  0.02337712,\n",
              "         0.18869921,  0.25192991, -0.43578113,  0.14556082],\n",
              "       [-0.28151793, -0.25887789,  0.31404117,  0.33994   ,  0.05997512,\n",
              "         0.07193408,  0.11159878, -0.51233973, -0.40257112,  0.09227097,\n",
              "        -0.18320373,  0.06123391, -0.02174976,  0.38401476]])"
            ]
          },
          "execution_count": 43,
          "metadata": {},
          "output_type": "execute_result"
        }
      ],
      "source": [
        "pca.components_"
      ]
    },
    {
      "cell_type": "markdown",
      "metadata": {
        "id": "26t7HWuHArni"
      },
      "source": [
        "Thus, the formulas for the dependence of the 5 main components on the initial features look like this:"
      ]
    },
    {
      "cell_type": "markdown",
      "metadata": {
        "id": "omJOr8eXA0bd"
      },
      "source": [
        "1\n",
        "\\begin{aligned}\n",
        "pc_1 = 0.28x_1+0.13x_2+0.34x_3+0.33x_4+0.38x_5\n",
        "    &+0.38x_6+0.32x_7+0.20x_8+0.15x_9+0.18x_{10}\n",
        "    +0.28x_{11}+0.09x_{12}+0.3x_{13}+0.02x_{14}\n",
        "\\end{aligned}\n",
        "\n",
        "2\n",
        "\\begin{aligned}\n",
        "pc_2 = -0.02x_1-0.28x_2+0.22x_3+0.2x_4+0.1x_5\n",
        "    &+0.08x_6-0.13x_7-0.16x_8+0.16x_9-0.49x_{10}\n",
        "    +0.09x_{11}-0.59x_{12}+0.03x_{13}-0.35x_{14}\n",
        "\\end{aligned}\n",
        "\n",
        "3\n",
        "\\begin{aligned}\n",
        "pc_2 = -0.006x_1-0.55x_2+0.067x_3-0.08x_4-0.07x_5\n",
        "    &-0.03x_6+0.19x_7+0.35x_8+0.34x_9-0.2x_{10}\n",
        "    -0.18x_{11}-0.01x_{12}+0.17x_{13}-0.53x_{14}\n",
        "\\end{aligned}\n",
        "\n",
        "4\n",
        "\\begin{aligned}\n",
        "pc_2 = -0.39x_1+0.08x_2+0.25x_3+0.19x_4+0.06x_5\n",
        "    &+0.002x_6-0.38x_7+0.07x_8+0.51x_9+0.02x_{10}\n",
        "    +0.18x_{11}+0.25x_{12}-0.43x_{13}+0.14x_{14}\n",
        "\\end{aligned}\n",
        "\n",
        "5\n",
        "\\begin{aligned}\n",
        "pc_2 = -0.28x_1-0.25x_2+0.31x_3+0.33x_4+0.05x_5\n",
        "    &+0.07x_6+0.11x_7-0.51x_8-0.4x_9+0.09x_{10}\n",
        "    -0.18x_{11}+0.06x_{12}-0.02x_{13}+0.38x_{14}\n",
        "\\end{aligned}"
      ]
    },
    {
      "cell_type": "markdown",
      "metadata": {
        "id": "lDWJ467BDWME"
      },
      "source": [
        "### Task № 4"
      ]
    },
    {
      "cell_type": "markdown",
      "metadata": {
        "id": "Vt-O326AQgJp"
      },
      "source": [
        "In this task, logistic regression model will be built and the quality of model will be evaluated by metrics"
      ]
    },
    {
      "cell_type": "code",
      "execution_count": 44,
      "metadata": {
        "colab": {
          "base_uri": "https://localhost:8080/",
          "height": 206
        },
        "id": "mVYY3vq4DH2o",
        "outputId": "13664fdc-c8c7-4144-8318-35633c2ec40a"
      },
      "outputs": [
        {
          "data": {
            "text/html": [
              "<div>\n",
              "<style scoped>\n",
              "    .dataframe tbody tr th:only-of-type {\n",
              "        vertical-align: middle;\n",
              "    }\n",
              "\n",
              "    .dataframe tbody tr th {\n",
              "        vertical-align: top;\n",
              "    }\n",
              "\n",
              "    .dataframe thead th {\n",
              "        text-align: right;\n",
              "    }\n",
              "</style>\n",
              "<table border=\"1\" class=\"dataframe\">\n",
              "  <thead>\n",
              "    <tr style=\"text-align: right;\">\n",
              "      <th></th>\n",
              "      <th>target</th>\n",
              "      <th>age</th>\n",
              "      <th>educ</th>\n",
              "      <th>work_exp</th>\n",
              "      <th>interest</th>\n",
              "      <th>coffee</th>\n",
              "      <th>boss_educ</th>\n",
              "      <th>passport</th>\n",
              "      <th>green</th>\n",
              "      <th>floor</th>\n",
              "      <th>children</th>\n",
              "      <th>climate</th>\n",
              "      <th>offhour</th>\n",
              "      <th>dist</th>\n",
              "      <th>salary</th>\n",
              "      <th>heigh</th>\n",
              "      <th>lunch</th>\n",
              "    </tr>\n",
              "  </thead>\n",
              "  <tbody>\n",
              "    <tr>\n",
              "      <th>0</th>\n",
              "      <td>0</td>\n",
              "      <td>50</td>\n",
              "      <td>4</td>\n",
              "      <td>27</td>\n",
              "      <td>8</td>\n",
              "      <td>1.3</td>\n",
              "      <td>1</td>\n",
              "      <td>0</td>\n",
              "      <td>2</td>\n",
              "      <td>3</td>\n",
              "      <td>2</td>\n",
              "      <td>0</td>\n",
              "      <td>0</td>\n",
              "      <td>10.6</td>\n",
              "      <td>1</td>\n",
              "      <td>176</td>\n",
              "      <td>226</td>\n",
              "    </tr>\n",
              "    <tr>\n",
              "      <th>1</th>\n",
              "      <td>0</td>\n",
              "      <td>30</td>\n",
              "      <td>3</td>\n",
              "      <td>10</td>\n",
              "      <td>0</td>\n",
              "      <td>0.0</td>\n",
              "      <td>6</td>\n",
              "      <td>1</td>\n",
              "      <td>2</td>\n",
              "      <td>3</td>\n",
              "      <td>0</td>\n",
              "      <td>0</td>\n",
              "      <td>0</td>\n",
              "      <td>11.5</td>\n",
              "      <td>0</td>\n",
              "      <td>186</td>\n",
              "      <td>226</td>\n",
              "    </tr>\n",
              "    <tr>\n",
              "      <th>2</th>\n",
              "      <td>0</td>\n",
              "      <td>43</td>\n",
              "      <td>3</td>\n",
              "      <td>22</td>\n",
              "      <td>7</td>\n",
              "      <td>1.9</td>\n",
              "      <td>6</td>\n",
              "      <td>1</td>\n",
              "      <td>1</td>\n",
              "      <td>5</td>\n",
              "      <td>0</td>\n",
              "      <td>3</td>\n",
              "      <td>0</td>\n",
              "      <td>12.8</td>\n",
              "      <td>1</td>\n",
              "      <td>166</td>\n",
              "      <td>238</td>\n",
              "    </tr>\n",
              "    <tr>\n",
              "      <th>3</th>\n",
              "      <td>0</td>\n",
              "      <td>58</td>\n",
              "      <td>3</td>\n",
              "      <td>31</td>\n",
              "      <td>7</td>\n",
              "      <td>2.0</td>\n",
              "      <td>4</td>\n",
              "      <td>0</td>\n",
              "      <td>3</td>\n",
              "      <td>3</td>\n",
              "      <td>1</td>\n",
              "      <td>1</td>\n",
              "      <td>0</td>\n",
              "      <td>15.2</td>\n",
              "      <td>1</td>\n",
              "      <td>180</td>\n",
              "      <td>216</td>\n",
              "    </tr>\n",
              "    <tr>\n",
              "      <th>4</th>\n",
              "      <td>1</td>\n",
              "      <td>40</td>\n",
              "      <td>3</td>\n",
              "      <td>23</td>\n",
              "      <td>7</td>\n",
              "      <td>0.0</td>\n",
              "      <td>6</td>\n",
              "      <td>1</td>\n",
              "      <td>3</td>\n",
              "      <td>2</td>\n",
              "      <td>0</td>\n",
              "      <td>0</td>\n",
              "      <td>0</td>\n",
              "      <td>16.1</td>\n",
              "      <td>1</td>\n",
              "      <td>180</td>\n",
              "      <td>286</td>\n",
              "    </tr>\n",
              "  </tbody>\n",
              "</table>\n",
              "</div>"
            ],
            "text/plain": [
              "   target  age  educ  work_exp  interest  coffee  boss_educ  passport  green  \\\n",
              "0       0   50     4        27         8     1.3          1         0      2   \n",
              "1       0   30     3        10         0     0.0          6         1      2   \n",
              "2       0   43     3        22         7     1.9          6         1      1   \n",
              "3       0   58     3        31         7     2.0          4         0      3   \n",
              "4       1   40     3        23         7     0.0          6         1      3   \n",
              "\n",
              "   floor  children  climate  offhour  dist  salary  heigh  lunch  \n",
              "0      3         2        0        0  10.6       1    176    226  \n",
              "1      3         0        0        0  11.5       0    186    226  \n",
              "2      5         0        3        0  12.8       1    166    238  \n",
              "3      3         1        1        0  15.2       1    180    216  \n",
              "4      2         0        0        0  16.1       1    180    286  "
            ]
          },
          "execution_count": 44,
          "metadata": {},
          "output_type": "execute_result"
        }
      ],
      "source": [
        "df_4 = pd.read_excel('task4.xls')\n",
        "df_4.head()"
      ]
    },
    {
      "cell_type": "markdown",
      "metadata": {
        "id": "xmCQw3svDqAn"
      },
      "source": [
        "**а)** Since there are quite a lot of variables in the data set, it is necessary to select features to build a logistic regression model. This can be done in various ways, but in this work we use a correlation matrix and the SelectKBest algorithm based on the F-test. Let's build a correlation matrix and, for clarity, build a heat map of correlations:"
      ]
    },
    {
      "cell_type": "code",
      "execution_count": 45,
      "metadata": {
        "colab": {
          "base_uri": "https://localhost:8080/",
          "height": 582
        },
        "id": "wn6s8rxMDe8M",
        "outputId": "f0b6450f-868c-483e-cadc-dc8f1d8996d5"
      },
      "outputs": [
        {
          "data": {
            "text/html": [
              "<div>\n",
              "<style scoped>\n",
              "    .dataframe tbody tr th:only-of-type {\n",
              "        vertical-align: middle;\n",
              "    }\n",
              "\n",
              "    .dataframe tbody tr th {\n",
              "        vertical-align: top;\n",
              "    }\n",
              "\n",
              "    .dataframe thead th {\n",
              "        text-align: right;\n",
              "    }\n",
              "</style>\n",
              "<table border=\"1\" class=\"dataframe\">\n",
              "  <thead>\n",
              "    <tr style=\"text-align: right;\">\n",
              "      <th></th>\n",
              "      <th>target</th>\n",
              "      <th>age</th>\n",
              "      <th>educ</th>\n",
              "      <th>work_exp</th>\n",
              "      <th>interest</th>\n",
              "      <th>coffee</th>\n",
              "      <th>boss_educ</th>\n",
              "      <th>passport</th>\n",
              "      <th>green</th>\n",
              "      <th>floor</th>\n",
              "      <th>children</th>\n",
              "      <th>climate</th>\n",
              "      <th>offhour</th>\n",
              "      <th>dist</th>\n",
              "      <th>salary</th>\n",
              "      <th>heigh</th>\n",
              "      <th>lunch</th>\n",
              "    </tr>\n",
              "  </thead>\n",
              "  <tbody>\n",
              "    <tr>\n",
              "      <th>target</th>\n",
              "      <td>1.000000</td>\n",
              "      <td>0.030904</td>\n",
              "      <td>0.046247</td>\n",
              "      <td>0.024676</td>\n",
              "      <td>-0.266240</td>\n",
              "      <td>-0.316441</td>\n",
              "      <td>0.042071</td>\n",
              "      <td>0.185342</td>\n",
              "      <td>-0.040751</td>\n",
              "      <td>-0.011566</td>\n",
              "      <td>-0.061014</td>\n",
              "      <td>-0.267805</td>\n",
              "      <td>0.266213</td>\n",
              "      <td>0.245826</td>\n",
              "      <td>-0.099234</td>\n",
              "      <td>0.038524</td>\n",
              "      <td>0.009652</td>\n",
              "    </tr>\n",
              "    <tr>\n",
              "      <th>age</th>\n",
              "      <td>0.030904</td>\n",
              "      <td>1.000000</td>\n",
              "      <td>0.193965</td>\n",
              "      <td>0.966593</td>\n",
              "      <td>-0.018100</td>\n",
              "      <td>0.022193</td>\n",
              "      <td>0.100664</td>\n",
              "      <td>0.027025</td>\n",
              "      <td>0.011081</td>\n",
              "      <td>-0.048146</td>\n",
              "      <td>0.079317</td>\n",
              "      <td>0.032328</td>\n",
              "      <td>0.001648</td>\n",
              "      <td>-0.007591</td>\n",
              "      <td>0.025933</td>\n",
              "      <td>0.061677</td>\n",
              "      <td>0.003041</td>\n",
              "    </tr>\n",
              "    <tr>\n",
              "      <th>educ</th>\n",
              "      <td>0.046247</td>\n",
              "      <td>0.193965</td>\n",
              "      <td>1.000000</td>\n",
              "      <td>0.172928</td>\n",
              "      <td>0.111074</td>\n",
              "      <td>-0.135974</td>\n",
              "      <td>0.488038</td>\n",
              "      <td>0.042000</td>\n",
              "      <td>0.065762</td>\n",
              "      <td>-0.036958</td>\n",
              "      <td>-0.026367</td>\n",
              "      <td>-0.008393</td>\n",
              "      <td>0.013761</td>\n",
              "      <td>-0.065000</td>\n",
              "      <td>-0.008323</td>\n",
              "      <td>0.017131</td>\n",
              "      <td>0.016025</td>\n",
              "    </tr>\n",
              "    <tr>\n",
              "      <th>work_exp</th>\n",
              "      <td>0.024676</td>\n",
              "      <td>0.966593</td>\n",
              "      <td>0.172928</td>\n",
              "      <td>1.000000</td>\n",
              "      <td>-0.018489</td>\n",
              "      <td>0.034827</td>\n",
              "      <td>0.085922</td>\n",
              "      <td>0.005739</td>\n",
              "      <td>0.003019</td>\n",
              "      <td>-0.036442</td>\n",
              "      <td>0.071044</td>\n",
              "      <td>0.037314</td>\n",
              "      <td>-0.000113</td>\n",
              "      <td>0.012256</td>\n",
              "      <td>0.028183</td>\n",
              "      <td>0.069176</td>\n",
              "      <td>0.007424</td>\n",
              "    </tr>\n",
              "    <tr>\n",
              "      <th>interest</th>\n",
              "      <td>-0.266240</td>\n",
              "      <td>-0.018100</td>\n",
              "      <td>0.111074</td>\n",
              "      <td>-0.018489</td>\n",
              "      <td>1.000000</td>\n",
              "      <td>0.071774</td>\n",
              "      <td>0.047040</td>\n",
              "      <td>-0.072606</td>\n",
              "      <td>0.059619</td>\n",
              "      <td>-0.095220</td>\n",
              "      <td>-0.024070</td>\n",
              "      <td>0.066103</td>\n",
              "      <td>-0.198222</td>\n",
              "      <td>-0.179107</td>\n",
              "      <td>0.052766</td>\n",
              "      <td>-0.008052</td>\n",
              "      <td>-0.013930</td>\n",
              "    </tr>\n",
              "    <tr>\n",
              "      <th>coffee</th>\n",
              "      <td>-0.316441</td>\n",
              "      <td>0.022193</td>\n",
              "      <td>-0.135974</td>\n",
              "      <td>0.034827</td>\n",
              "      <td>0.071774</td>\n",
              "      <td>1.000000</td>\n",
              "      <td>-0.046351</td>\n",
              "      <td>-0.255269</td>\n",
              "      <td>0.004050</td>\n",
              "      <td>0.104948</td>\n",
              "      <td>0.087436</td>\n",
              "      <td>0.029701</td>\n",
              "      <td>-0.034376</td>\n",
              "      <td>0.065100</td>\n",
              "      <td>0.048929</td>\n",
              "      <td>-0.042351</td>\n",
              "      <td>-0.093563</td>\n",
              "    </tr>\n",
              "    <tr>\n",
              "      <th>boss_educ</th>\n",
              "      <td>0.042071</td>\n",
              "      <td>0.100664</td>\n",
              "      <td>0.488038</td>\n",
              "      <td>0.085922</td>\n",
              "      <td>0.047040</td>\n",
              "      <td>-0.046351</td>\n",
              "      <td>1.000000</td>\n",
              "      <td>-0.002639</td>\n",
              "      <td>0.066961</td>\n",
              "      <td>0.002158</td>\n",
              "      <td>-0.080723</td>\n",
              "      <td>0.005633</td>\n",
              "      <td>-0.009352</td>\n",
              "      <td>-0.076671</td>\n",
              "      <td>-0.013197</td>\n",
              "      <td>0.052343</td>\n",
              "      <td>-0.035486</td>\n",
              "    </tr>\n",
              "    <tr>\n",
              "      <th>passport</th>\n",
              "      <td>0.185342</td>\n",
              "      <td>0.027025</td>\n",
              "      <td>0.042000</td>\n",
              "      <td>0.005739</td>\n",
              "      <td>-0.072606</td>\n",
              "      <td>-0.255269</td>\n",
              "      <td>-0.002639</td>\n",
              "      <td>1.000000</td>\n",
              "      <td>-0.044844</td>\n",
              "      <td>0.025053</td>\n",
              "      <td>-0.052250</td>\n",
              "      <td>-0.052288</td>\n",
              "      <td>0.010004</td>\n",
              "      <td>-0.045631</td>\n",
              "      <td>-0.017975</td>\n",
              "      <td>0.054919</td>\n",
              "      <td>0.048082</td>\n",
              "    </tr>\n",
              "    <tr>\n",
              "      <th>green</th>\n",
              "      <td>-0.040751</td>\n",
              "      <td>0.011081</td>\n",
              "      <td>0.065762</td>\n",
              "      <td>0.003019</td>\n",
              "      <td>0.059619</td>\n",
              "      <td>0.004050</td>\n",
              "      <td>0.066961</td>\n",
              "      <td>-0.044844</td>\n",
              "      <td>1.000000</td>\n",
              "      <td>-0.091434</td>\n",
              "      <td>-0.049071</td>\n",
              "      <td>0.096890</td>\n",
              "      <td>0.051826</td>\n",
              "      <td>-0.107737</td>\n",
              "      <td>0.013901</td>\n",
              "      <td>0.009076</td>\n",
              "      <td>-0.011348</td>\n",
              "    </tr>\n",
              "    <tr>\n",
              "      <th>floor</th>\n",
              "      <td>-0.011566</td>\n",
              "      <td>-0.048146</td>\n",
              "      <td>-0.036958</td>\n",
              "      <td>-0.036442</td>\n",
              "      <td>-0.095220</td>\n",
              "      <td>0.104948</td>\n",
              "      <td>0.002158</td>\n",
              "      <td>0.025053</td>\n",
              "      <td>-0.091434</td>\n",
              "      <td>1.000000</td>\n",
              "      <td>-0.043882</td>\n",
              "      <td>0.004191</td>\n",
              "      <td>0.023086</td>\n",
              "      <td>0.199300</td>\n",
              "      <td>0.014560</td>\n",
              "      <td>0.015944</td>\n",
              "      <td>0.290174</td>\n",
              "    </tr>\n",
              "    <tr>\n",
              "      <th>children</th>\n",
              "      <td>-0.061014</td>\n",
              "      <td>0.079317</td>\n",
              "      <td>-0.026367</td>\n",
              "      <td>0.071044</td>\n",
              "      <td>-0.024070</td>\n",
              "      <td>0.087436</td>\n",
              "      <td>-0.080723</td>\n",
              "      <td>-0.052250</td>\n",
              "      <td>-0.049071</td>\n",
              "      <td>-0.043882</td>\n",
              "      <td>1.000000</td>\n",
              "      <td>-0.026592</td>\n",
              "      <td>-0.011797</td>\n",
              "      <td>-0.041727</td>\n",
              "      <td>-0.057373</td>\n",
              "      <td>0.003828</td>\n",
              "      <td>-0.038041</td>\n",
              "    </tr>\n",
              "    <tr>\n",
              "      <th>climate</th>\n",
              "      <td>-0.267805</td>\n",
              "      <td>0.032328</td>\n",
              "      <td>-0.008393</td>\n",
              "      <td>0.037314</td>\n",
              "      <td>0.066103</td>\n",
              "      <td>0.029701</td>\n",
              "      <td>0.005633</td>\n",
              "      <td>-0.052288</td>\n",
              "      <td>0.096890</td>\n",
              "      <td>0.004191</td>\n",
              "      <td>-0.026592</td>\n",
              "      <td>1.000000</td>\n",
              "      <td>-0.086934</td>\n",
              "      <td>-0.073197</td>\n",
              "      <td>0.049211</td>\n",
              "      <td>-0.059629</td>\n",
              "      <td>0.062760</td>\n",
              "    </tr>\n",
              "    <tr>\n",
              "      <th>offhour</th>\n",
              "      <td>0.266213</td>\n",
              "      <td>0.001648</td>\n",
              "      <td>0.013761</td>\n",
              "      <td>-0.000113</td>\n",
              "      <td>-0.198222</td>\n",
              "      <td>-0.034376</td>\n",
              "      <td>-0.009352</td>\n",
              "      <td>0.010004</td>\n",
              "      <td>0.051826</td>\n",
              "      <td>0.023086</td>\n",
              "      <td>-0.011797</td>\n",
              "      <td>-0.086934</td>\n",
              "      <td>1.000000</td>\n",
              "      <td>0.099052</td>\n",
              "      <td>-0.001228</td>\n",
              "      <td>-0.011123</td>\n",
              "      <td>-0.007684</td>\n",
              "    </tr>\n",
              "    <tr>\n",
              "      <th>dist</th>\n",
              "      <td>0.245826</td>\n",
              "      <td>-0.007591</td>\n",
              "      <td>-0.065000</td>\n",
              "      <td>0.012256</td>\n",
              "      <td>-0.179107</td>\n",
              "      <td>0.065100</td>\n",
              "      <td>-0.076671</td>\n",
              "      <td>-0.045631</td>\n",
              "      <td>-0.107737</td>\n",
              "      <td>0.199300</td>\n",
              "      <td>-0.041727</td>\n",
              "      <td>-0.073197</td>\n",
              "      <td>0.099052</td>\n",
              "      <td>1.000000</td>\n",
              "      <td>0.000868</td>\n",
              "      <td>-0.000556</td>\n",
              "      <td>0.014788</td>\n",
              "    </tr>\n",
              "    <tr>\n",
              "      <th>salary</th>\n",
              "      <td>-0.099234</td>\n",
              "      <td>0.025933</td>\n",
              "      <td>-0.008323</td>\n",
              "      <td>0.028183</td>\n",
              "      <td>0.052766</td>\n",
              "      <td>0.048929</td>\n",
              "      <td>-0.013197</td>\n",
              "      <td>-0.017975</td>\n",
              "      <td>0.013901</td>\n",
              "      <td>0.014560</td>\n",
              "      <td>-0.057373</td>\n",
              "      <td>0.049211</td>\n",
              "      <td>-0.001228</td>\n",
              "      <td>0.000868</td>\n",
              "      <td>1.000000</td>\n",
              "      <td>0.020546</td>\n",
              "      <td>-0.029496</td>\n",
              "    </tr>\n",
              "    <tr>\n",
              "      <th>heigh</th>\n",
              "      <td>0.038524</td>\n",
              "      <td>0.061677</td>\n",
              "      <td>0.017131</td>\n",
              "      <td>0.069176</td>\n",
              "      <td>-0.008052</td>\n",
              "      <td>-0.042351</td>\n",
              "      <td>0.052343</td>\n",
              "      <td>0.054919</td>\n",
              "      <td>0.009076</td>\n",
              "      <td>0.015944</td>\n",
              "      <td>0.003828</td>\n",
              "      <td>-0.059629</td>\n",
              "      <td>-0.011123</td>\n",
              "      <td>-0.000556</td>\n",
              "      <td>0.020546</td>\n",
              "      <td>1.000000</td>\n",
              "      <td>0.024444</td>\n",
              "    </tr>\n",
              "    <tr>\n",
              "      <th>lunch</th>\n",
              "      <td>0.009652</td>\n",
              "      <td>0.003041</td>\n",
              "      <td>0.016025</td>\n",
              "      <td>0.007424</td>\n",
              "      <td>-0.013930</td>\n",
              "      <td>-0.093563</td>\n",
              "      <td>-0.035486</td>\n",
              "      <td>0.048082</td>\n",
              "      <td>-0.011348</td>\n",
              "      <td>0.290174</td>\n",
              "      <td>-0.038041</td>\n",
              "      <td>0.062760</td>\n",
              "      <td>-0.007684</td>\n",
              "      <td>0.014788</td>\n",
              "      <td>-0.029496</td>\n",
              "      <td>0.024444</td>\n",
              "      <td>1.000000</td>\n",
              "    </tr>\n",
              "  </tbody>\n",
              "</table>\n",
              "</div>"
            ],
            "text/plain": [
              "             target       age      educ  work_exp  interest    coffee  \\\n",
              "target     1.000000  0.030904  0.046247  0.024676 -0.266240 -0.316441   \n",
              "age        0.030904  1.000000  0.193965  0.966593 -0.018100  0.022193   \n",
              "educ       0.046247  0.193965  1.000000  0.172928  0.111074 -0.135974   \n",
              "work_exp   0.024676  0.966593  0.172928  1.000000 -0.018489  0.034827   \n",
              "interest  -0.266240 -0.018100  0.111074 -0.018489  1.000000  0.071774   \n",
              "coffee    -0.316441  0.022193 -0.135974  0.034827  0.071774  1.000000   \n",
              "boss_educ  0.042071  0.100664  0.488038  0.085922  0.047040 -0.046351   \n",
              "passport   0.185342  0.027025  0.042000  0.005739 -0.072606 -0.255269   \n",
              "green     -0.040751  0.011081  0.065762  0.003019  0.059619  0.004050   \n",
              "floor     -0.011566 -0.048146 -0.036958 -0.036442 -0.095220  0.104948   \n",
              "children  -0.061014  0.079317 -0.026367  0.071044 -0.024070  0.087436   \n",
              "climate   -0.267805  0.032328 -0.008393  0.037314  0.066103  0.029701   \n",
              "offhour    0.266213  0.001648  0.013761 -0.000113 -0.198222 -0.034376   \n",
              "dist       0.245826 -0.007591 -0.065000  0.012256 -0.179107  0.065100   \n",
              "salary    -0.099234  0.025933 -0.008323  0.028183  0.052766  0.048929   \n",
              "heigh      0.038524  0.061677  0.017131  0.069176 -0.008052 -0.042351   \n",
              "lunch      0.009652  0.003041  0.016025  0.007424 -0.013930 -0.093563   \n",
              "\n",
              "           boss_educ  passport     green     floor  children   climate  \\\n",
              "target      0.042071  0.185342 -0.040751 -0.011566 -0.061014 -0.267805   \n",
              "age         0.100664  0.027025  0.011081 -0.048146  0.079317  0.032328   \n",
              "educ        0.488038  0.042000  0.065762 -0.036958 -0.026367 -0.008393   \n",
              "work_exp    0.085922  0.005739  0.003019 -0.036442  0.071044  0.037314   \n",
              "interest    0.047040 -0.072606  0.059619 -0.095220 -0.024070  0.066103   \n",
              "coffee     -0.046351 -0.255269  0.004050  0.104948  0.087436  0.029701   \n",
              "boss_educ   1.000000 -0.002639  0.066961  0.002158 -0.080723  0.005633   \n",
              "passport   -0.002639  1.000000 -0.044844  0.025053 -0.052250 -0.052288   \n",
              "green       0.066961 -0.044844  1.000000 -0.091434 -0.049071  0.096890   \n",
              "floor       0.002158  0.025053 -0.091434  1.000000 -0.043882  0.004191   \n",
              "children   -0.080723 -0.052250 -0.049071 -0.043882  1.000000 -0.026592   \n",
              "climate     0.005633 -0.052288  0.096890  0.004191 -0.026592  1.000000   \n",
              "offhour    -0.009352  0.010004  0.051826  0.023086 -0.011797 -0.086934   \n",
              "dist       -0.076671 -0.045631 -0.107737  0.199300 -0.041727 -0.073197   \n",
              "salary     -0.013197 -0.017975  0.013901  0.014560 -0.057373  0.049211   \n",
              "heigh       0.052343  0.054919  0.009076  0.015944  0.003828 -0.059629   \n",
              "lunch      -0.035486  0.048082 -0.011348  0.290174 -0.038041  0.062760   \n",
              "\n",
              "            offhour      dist    salary     heigh     lunch  \n",
              "target     0.266213  0.245826 -0.099234  0.038524  0.009652  \n",
              "age        0.001648 -0.007591  0.025933  0.061677  0.003041  \n",
              "educ       0.013761 -0.065000 -0.008323  0.017131  0.016025  \n",
              "work_exp  -0.000113  0.012256  0.028183  0.069176  0.007424  \n",
              "interest  -0.198222 -0.179107  0.052766 -0.008052 -0.013930  \n",
              "coffee    -0.034376  0.065100  0.048929 -0.042351 -0.093563  \n",
              "boss_educ -0.009352 -0.076671 -0.013197  0.052343 -0.035486  \n",
              "passport   0.010004 -0.045631 -0.017975  0.054919  0.048082  \n",
              "green      0.051826 -0.107737  0.013901  0.009076 -0.011348  \n",
              "floor      0.023086  0.199300  0.014560  0.015944  0.290174  \n",
              "children  -0.011797 -0.041727 -0.057373  0.003828 -0.038041  \n",
              "climate   -0.086934 -0.073197  0.049211 -0.059629  0.062760  \n",
              "offhour    1.000000  0.099052 -0.001228 -0.011123 -0.007684  \n",
              "dist       0.099052  1.000000  0.000868 -0.000556  0.014788  \n",
              "salary    -0.001228  0.000868  1.000000  0.020546 -0.029496  \n",
              "heigh     -0.011123 -0.000556  0.020546  1.000000  0.024444  \n",
              "lunch     -0.007684  0.014788 -0.029496  0.024444  1.000000  "
            ]
          },
          "execution_count": 45,
          "metadata": {},
          "output_type": "execute_result"
        }
      ],
      "source": [
        "df_4.corr()"
      ]
    },
    {
      "cell_type": "code",
      "execution_count": 64,
      "metadata": {
        "colab": {
          "base_uri": "https://localhost:8080/",
          "height": 512
        },
        "id": "aQy_V7oUE2TD",
        "outputId": "d778119c-996f-4c76-ea09-a93c08e13e70"
      },
      "outputs": [
        {
          "data": {
            "text/plain": [
              "Text(0.5, 1.0, 'Correlation matrix')"
            ]
          },
          "execution_count": 64,
          "metadata": {},
          "output_type": "execute_result"
        },
        {
          "data": {
            "image/png": "[encoded data removed]",
            "text/plain": [
              "<Figure size 640x480 with 2 Axes>"
            ]
          },
          "metadata": {},
          "output_type": "display_data"
        }
      ],
      "source": [
        "sns.heatmap(data=df_4.corr(), cmap='coolwarm', vmin=-1, vmax=1, linewidth=.5)\n",
        "plt.title(\"Correlation matrix\")"
      ]
    },
    {
      "cell_type": "markdown",
      "metadata": {
        "id": "c308-jUyGIBD"
      },
      "source": [
        "As the correlation matrix shows, the most correlated features with the target variable (with a correlation coefficient module greater than 0.2) are the features `interest`, `coffee`, `climate`, `offhour` and `dist`. Based on intuition and experience, all features can be used in further analysis, since an employee’s loss of interest in work and dissatisfaction with the work atmosphere is one of the significant reasons for dismissal, as well as the long distance from home to the place of work and the availability of working off"
      ]
    },
    {
      "cell_type": "code",
      "execution_count": 47,
      "metadata": {
        "id": "vNUk5yiWFeFY"
      },
      "outputs": [],
      "source": [
        "from sklearn.feature_selection import SelectKBest, chi2"
      ]
    },
    {
      "cell_type": "code",
      "execution_count": 48,
      "metadata": {
        "colab": {
          "base_uri": "https://localhost:8080/"
        },
        "id": "cx6ZfFM4JtqJ",
        "outputId": "19177d5a-90ea-4f3e-93ef-a0d3d9e03d58"
      },
      "outputs": [
        {
          "data": {
            "text/plain": [
              "array([[ 8. ,  1.3,  0. ,  0. , 10.6],\n",
              "       [ 0. ,  0. ,  0. ,  0. , 11.5],\n",
              "       [ 7. ,  1.9,  3. ,  0. , 12.8],\n",
              "       ...,\n",
              "       [ 9. ,  2. ,  4. ,  0. ,  9.8],\n",
              "       [ 7. ,  0. ,  3. ,  1. , 12.6],\n",
              "       [ 1. ,  0. ,  1. ,  1. , 16.6]])"
            ]
          },
          "execution_count": 48,
          "metadata": {},
          "output_type": "execute_result"
        }
      ],
      "source": [
        "X = df_4.drop('target', axis=1)\n",
        "y = df_4.target\n",
        "X_new = SelectKBest(chi2, k=5).fit_transform(X, y)\n",
        "X_new"
      ]
    },
    {
      "cell_type": "markdown",
      "metadata": {
        "id": "X7Z5H9HBN9jb"
      },
      "source": [
        "The `SelectKBest` algorithm selected the same features as correlation matrix. This means that the attributes `interest`, `coffee`, `climate`, `offhour` and `dist` will be used to build a logistic regression model."
      ]
    },
    {
      "cell_type": "markdown",
      "metadata": {
        "id": "lSJ4Dn0dQf8W"
      },
      "source": [
        "To get better results from the model, you need to normalize the data:"
      ]
    },
    {
      "cell_type": "code",
      "execution_count": 49,
      "metadata": {
        "id": "VN0r7tSJSNvO"
      },
      "outputs": [],
      "source": [
        "X = df_4[['interest', 'coffee', 'climate', 'offhour', 'dist']]"
      ]
    },
    {
      "cell_type": "code",
      "execution_count": 50,
      "metadata": {
        "id": "vqy10-vqQOrS"
      },
      "outputs": [],
      "source": [
        "from sklearn.preprocessing import MinMaxScaler"
      ]
    },
    {
      "cell_type": "code",
      "execution_count": 51,
      "metadata": {
        "id": "XxgT7b-CPHyf"
      },
      "outputs": [],
      "source": [
        "scaler = MinMaxScaler()\n",
        "scaler.fit(X)\n",
        "X_norm=scaler.transform(X)"
      ]
    },
    {
      "cell_type": "markdown",
      "metadata": {
        "id": "_DEaVHPHQuhX"
      },
      "source": [
        "Let's divide data into training and test samples:"
      ]
    },
    {
      "cell_type": "code",
      "execution_count": 52,
      "metadata": {
        "id": "LlF-6epvQV8Z"
      },
      "outputs": [],
      "source": [
        "from sklearn.model_selection import train_test_split"
      ]
    },
    {
      "cell_type": "code",
      "execution_count": 53,
      "metadata": {
        "id": "QoTH5S9cRaHq"
      },
      "outputs": [],
      "source": [
        "X_train, X_test, y_train, y_test = train_test_split(X_norm, y, test_size=0.33, random_state=42)"
      ]
    },
    {
      "cell_type": "markdown",
      "metadata": {
        "id": "v_PxmMnRRw-S"
      },
      "source": [
        "Model training:"
      ]
    },
    {
      "cell_type": "code",
      "execution_count": 54,
      "metadata": {
        "id": "Xc8rE8CwR0si"
      },
      "outputs": [],
      "source": [
        "import statsmodels.api as sm"
      ]
    },
    {
      "cell_type": "code",
      "execution_count": 55,
      "metadata": {
        "colab": {
          "base_uri": "https://localhost:8080/"
        },
        "id": "rLUOOb1qSBPq",
        "outputId": "1ba438ab-2b76-4c0c-eade-d299ca2416fa"
      },
      "outputs": [
        {
          "name": "stdout",
          "output_type": "stream",
          "text": [
            "Optimization terminated successfully.\n",
            "         Current function value: 0.454146\n",
            "         Iterations 7\n",
            "                         Results: Logit\n",
            "=================================================================\n",
            "Model:              Logit            Pseudo R-squared: 0.276     \n",
            "Dependent Variable: target           AIC:              903.7600  \n",
            "Date:               2023-12-25 17:22 BIC:              928.2181  \n",
            "No. Observations:   984              Log-Likelihood:   -446.88   \n",
            "Df Model:           4                LL-Null:          -616.93   \n",
            "Df Residuals:       979              LLR p-value:      2.4063e-72\n",
            "Converged:          1.0000           Scale:            1.0000    \n",
            "No. Iterations:     7.0000                                       \n",
            "-------------------------------------------------------------------\n",
            "          Coef.    Std.Err.      z       P>|z|     [0.025    0.975]\n",
            "-------------------------------------------------------------------\n",
            "x1       -1.8226     0.2426    -7.5140   0.0000   -2.2981   -1.3472\n",
            "x2       -3.6715     0.3593   -10.2181   0.0000   -4.3758   -2.9673\n",
            "x3       -2.1247     0.2517    -8.4414   0.0000   -2.6180   -1.6314\n",
            "x4        1.0460     0.1629     6.4202   0.0000    0.7267    1.3653\n",
            "x5        4.0798     0.5502     7.4149   0.0000    3.0014    5.1582\n",
            "=================================================================\n",
            "\n"
          ]
        }
      ],
      "source": [
        "logit_model=sm.Logit(y,X_norm)\n",
        "result=logit_model.fit()\n",
        "print(result.summary2())"
      ]
    },
    {
      "cell_type": "markdown",
      "metadata": {
        "id": "ES4ihrH5R1CK"
      },
      "source": [
        "As can be seen from the summary, the quality of class prediction by logistic regression model is good. The pseudo R^2 value is low. Variables `interest`, `coffee` and `climate` negatively affect the probability of an employee dismissal, while the variables `offhour` and `dist` have a positive effect on dismissal. All coefficients are significant, as proven by the z-test and as seen by the confidence intervals. The feature `coffee` brings the greatest weight into the model, with which the correlation coefficient with the target variable is as far away from zero as possible."
      ]
    },
    {
      "cell_type": "markdown",
      "metadata": {
        "id": "rU0NzkkJ5BE4"
      },
      "source": [
        "**b)** Let's analyze logistic model errors using confusion matrix and quality metrics:"
      ]
    },
    {
      "cell_type": "code",
      "execution_count": 56,
      "metadata": {
        "id": "ql4kFkMvRXdS"
      },
      "outputs": [],
      "source": [
        "from sklearn.linear_model import LogisticRegression"
      ]
    },
    {
      "cell_type": "code",
      "execution_count": 57,
      "metadata": {
        "id": "6Jlg0nEARf7b"
      },
      "outputs": [],
      "source": [
        "clf_norm=LogisticRegression(random_state=0, solver='lbfgs').fit(X_train, y_train)\n",
        "y_pred_norm = clf_norm.predict(X_test)"
      ]
    },
    {
      "cell_type": "code",
      "execution_count": 58,
      "metadata": {
        "id": "6ayfIf5q7Q3O"
      },
      "outputs": [],
      "source": [
        "sns.set_theme(style=\"white\")"
      ]
    },
    {
      "cell_type": "code",
      "execution_count": 59,
      "metadata": {
        "id": "iPFPp8q2Rqui"
      },
      "outputs": [],
      "source": [
        "from sklearn.metrics import confusion_matrix, accuracy_score, precision_score, recall_score, f1_score, roc_auc_score"
      ]
    },
    {
      "cell_type": "code",
      "execution_count": 60,
      "metadata": {
        "colab": {
          "base_uri": "https://localhost:8080/",
          "height": 608
        },
        "id": "9zMko8LH-xhU",
        "outputId": "84981b24-34c2-4f0d-9159-ea0029fb5546"
      },
      "outputs": [
        {
          "name": "stdout",
          "output_type": "stream",
          "text": [
            "Confusion Matrix : \n",
            " [[190  21]\n",
            " [ 69  45]]\n",
            "Accuracy :  0.7230769230769231\n",
            "Precision score:  0.6818181818181818\n",
            "Recall score:  0.39473684210526316\n",
            "F1 score:  0.5\n"
          ]
        },
        {
          "data": {
            "image/png": "[encoded data removed]",
            "text/plain": [
              "<Figure size 640x480 with 2 Axes>"
            ]
          },
          "metadata": {},
          "output_type": "display_data"
        }
      ],
      "source": [
        "cm_standard = confusion_matrix(y_test, y_pred_norm)\n",
        "print(\"Confusion Matrix : \\n\", cm_standard)\n",
        "print(\"Accuracy : \", accuracy_score(y_test, y_pred_norm))\n",
        "print('Precision score: ', precision_score(y_test, y_pred_norm))\n",
        "print('Recall score: ', recall_score(y_test, y_pred_norm))\n",
        "print('F1 score: ', f1_score(y_test, y_pred_norm))\n",
        "\n",
        "sns.heatmap(cm_standard, annot=True, cmap='YlOrRd_r', fmt='g')\n",
        "plt.xlabel(\"Predicted\")\n",
        "plt.ylabel(\"True\")\n",
        "plt.title('Confusion matrix')\n",
        "plt.show()"
      ]
    },
    {
      "cell_type": "markdown",
      "metadata": {
        "id": "lHkUzcLR6RGX"
      },
      "source": [
        "There are quite a lot of correctly classified observations in the confusion matrix (190 employees who stayed and 45 employees who left), but there are also quite a lot of incorrectly classified observations - they make up approximately 30% of all observations. Due to class imbalance, the model strives to evaluate as many employees as possible who will remain with the company. As many as 69 employees were actually laid off, but the model classified the employees as class zero. This is why the recall rate turned out to be quite low. In turn, the precision is higher due to the small number of employees who actually remained in the company, but the model predicted that there were 21 people who left. The F score was low due to the influence of recall."
      ]
    },
    {
      "cell_type": "markdown",
      "metadata": {
        "id": "0JP-LArVEpwD"
      },
      "source": [
        "Before building the ROC curve, it is necessary to obtain the probabilities of the predicted classes:"
      ]
    },
    {
      "cell_type": "code",
      "execution_count": 61,
      "metadata": {
        "id": "xJzDDE5_HBWO"
      },
      "outputs": [],
      "source": [
        "y_pred_log = clf_norm.predict_proba(X_test)"
      ]
    },
    {
      "cell_type": "markdown",
      "metadata": {
        "id": "3Qwy8_fPHWwL"
      },
      "source": [
        "Now we can build ROC curve and caculate ROC-AUC score:"
      ]
    },
    {
      "cell_type": "code",
      "execution_count": 62,
      "metadata": {
        "id": "2iN1mGf7FPI0"
      },
      "outputs": [],
      "source": [
        "from sklearn.metrics import roc_curve"
      ]
    },
    {
      "cell_type": "code",
      "execution_count": 63,
      "metadata": {
        "colab": {
          "base_uri": "https://localhost:8080/",
          "height": 434
        },
        "id": "0ljOydDJ6dMh",
        "outputId": "ca12911c-c1b4-459c-d781-d3001d87f3f8"
      },
      "outputs": [
        {
          "data": {
            "image/png": "[encoded data removed]",
            "text/plain": [
              "<Figure size 640x480 with 1 Axes>"
            ]
          },
          "metadata": {},
          "output_type": "display_data"
        }
      ],
      "source": [
        "fpr_log, tpr_log, _ = roc_curve(y_test, y_pred_log[:, 1])\n",
        "auc_log = roc_auc_score(y_test, y_pred_log[:, 1])\n",
        "plt.plot(fpr_log,tpr_log,label=\"auc=\"+str(auc_log))\n",
        "plt.legend(loc=4)\n",
        "plt.show()"
      ]
    },
    {
      "cell_type": "markdown",
      "metadata": {
        "id": "liugI4jtVC9U"
      },
      "source": [
        "The roc curve shows a fairly good location on the graph, since the area under the curve is equal to 0.84. This indicates good classification quality. Thus, the model quality metrics showed that the model's prediction quality is good."
      ]
    }
  ],
  "metadata": {
    "colab": {
      "provenance": []
    },
    "kernelspec": {
      "display_name": "Python 3",
      "name": "python3"
    },
    "language_info": {
      "codemirror_mode": {
        "name": "ipython",
        "version": 3
      },
      "file_extension": ".py",
      "mimetype": "text/x-python",
      "name": "python",
      "nbconvert_exporter": "python",
      "pygments_lexer": "ipython3",
      "version": "3.9.13"
    }
  },
  "nbformat": 4,
  "nbformat_minor": 0
}
